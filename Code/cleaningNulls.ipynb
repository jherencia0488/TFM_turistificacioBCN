{
 "cells": [
  {
   "cell_type": "code",
   "id": "70789a74-985c-488f-876f-7af8e1050610",
   "metadata": {
    "ExecuteTime": {
     "end_time": "2024-12-04T18:27:45.206643Z",
     "start_time": "2024-12-04T18:27:43.321414Z"
    }
   },
   "source": [
    "import pandas as pd"
   ],
   "outputs": [],
   "execution_count": 1
  },
  {
   "cell_type": "code",
   "id": "05fbf0a6-f24a-4ff8-94d5-3a98f4cc110b",
   "metadata": {
    "ExecuteTime": {
     "end_time": "2024-12-04T18:27:46.012758Z",
     "start_time": "2024-12-04T18:27:45.317995Z"
    }
   },
   "source": [
    "#Carreguem l'arxiu a inspeccionar\n",
    "af_desc_df = pd.read_csv(\"./aforaments-descriptiu.csv\")"
   ],
   "outputs": [
    {
     "ename": "FileNotFoundError",
     "evalue": "[Errno 2] No such file or directory: './aforaments-descriptiu.csv'",
     "output_type": "error",
     "traceback": [
      "\u001B[1;31m---------------------------------------------------------------------------\u001B[0m",
      "\u001B[1;31mFileNotFoundError\u001B[0m                         Traceback (most recent call last)",
      "Cell \u001B[1;32mIn[2], line 2\u001B[0m\n\u001B[0;32m      1\u001B[0m \u001B[38;5;66;03m#Carreguem l'arxiu a inspeccionar\u001B[39;00m\n\u001B[1;32m----> 2\u001B[0m af_desc_df \u001B[38;5;241m=\u001B[39m \u001B[43mpd\u001B[49m\u001B[38;5;241;43m.\u001B[39;49m\u001B[43mread_csv\u001B[49m\u001B[43m(\u001B[49m\u001B[38;5;124;43m\"\u001B[39;49m\u001B[38;5;124;43m./aforaments-descriptiu.csv\u001B[39;49m\u001B[38;5;124;43m\"\u001B[39;49m\u001B[43m)\u001B[49m\n",
      "File \u001B[1;32m~\\PycharmProjects\\PythonProject\\PythonProject\\TFM_turistificacioBCN\\.venv\\Lib\\site-packages\\pandas\\io\\parsers\\readers.py:1026\u001B[0m, in \u001B[0;36mread_csv\u001B[1;34m(filepath_or_buffer, sep, delimiter, header, names, index_col, usecols, dtype, engine, converters, true_values, false_values, skipinitialspace, skiprows, skipfooter, nrows, na_values, keep_default_na, na_filter, verbose, skip_blank_lines, parse_dates, infer_datetime_format, keep_date_col, date_parser, date_format, dayfirst, cache_dates, iterator, chunksize, compression, thousands, decimal, lineterminator, quotechar, quoting, doublequote, escapechar, comment, encoding, encoding_errors, dialect, on_bad_lines, delim_whitespace, low_memory, memory_map, float_precision, storage_options, dtype_backend)\u001B[0m\n\u001B[0;32m   1013\u001B[0m kwds_defaults \u001B[38;5;241m=\u001B[39m _refine_defaults_read(\n\u001B[0;32m   1014\u001B[0m     dialect,\n\u001B[0;32m   1015\u001B[0m     delimiter,\n\u001B[1;32m   (...)\u001B[0m\n\u001B[0;32m   1022\u001B[0m     dtype_backend\u001B[38;5;241m=\u001B[39mdtype_backend,\n\u001B[0;32m   1023\u001B[0m )\n\u001B[0;32m   1024\u001B[0m kwds\u001B[38;5;241m.\u001B[39mupdate(kwds_defaults)\n\u001B[1;32m-> 1026\u001B[0m \u001B[38;5;28;01mreturn\u001B[39;00m \u001B[43m_read\u001B[49m\u001B[43m(\u001B[49m\u001B[43mfilepath_or_buffer\u001B[49m\u001B[43m,\u001B[49m\u001B[43m \u001B[49m\u001B[43mkwds\u001B[49m\u001B[43m)\u001B[49m\n",
      "File \u001B[1;32m~\\PycharmProjects\\PythonProject\\PythonProject\\TFM_turistificacioBCN\\.venv\\Lib\\site-packages\\pandas\\io\\parsers\\readers.py:620\u001B[0m, in \u001B[0;36m_read\u001B[1;34m(filepath_or_buffer, kwds)\u001B[0m\n\u001B[0;32m    617\u001B[0m _validate_names(kwds\u001B[38;5;241m.\u001B[39mget(\u001B[38;5;124m\"\u001B[39m\u001B[38;5;124mnames\u001B[39m\u001B[38;5;124m\"\u001B[39m, \u001B[38;5;28;01mNone\u001B[39;00m))\n\u001B[0;32m    619\u001B[0m \u001B[38;5;66;03m# Create the parser.\u001B[39;00m\n\u001B[1;32m--> 620\u001B[0m parser \u001B[38;5;241m=\u001B[39m \u001B[43mTextFileReader\u001B[49m\u001B[43m(\u001B[49m\u001B[43mfilepath_or_buffer\u001B[49m\u001B[43m,\u001B[49m\u001B[43m \u001B[49m\u001B[38;5;241;43m*\u001B[39;49m\u001B[38;5;241;43m*\u001B[39;49m\u001B[43mkwds\u001B[49m\u001B[43m)\u001B[49m\n\u001B[0;32m    622\u001B[0m \u001B[38;5;28;01mif\u001B[39;00m chunksize \u001B[38;5;129;01mor\u001B[39;00m iterator:\n\u001B[0;32m    623\u001B[0m     \u001B[38;5;28;01mreturn\u001B[39;00m parser\n",
      "File \u001B[1;32m~\\PycharmProjects\\PythonProject\\PythonProject\\TFM_turistificacioBCN\\.venv\\Lib\\site-packages\\pandas\\io\\parsers\\readers.py:1620\u001B[0m, in \u001B[0;36mTextFileReader.__init__\u001B[1;34m(self, f, engine, **kwds)\u001B[0m\n\u001B[0;32m   1617\u001B[0m     \u001B[38;5;28mself\u001B[39m\u001B[38;5;241m.\u001B[39moptions[\u001B[38;5;124m\"\u001B[39m\u001B[38;5;124mhas_index_names\u001B[39m\u001B[38;5;124m\"\u001B[39m] \u001B[38;5;241m=\u001B[39m kwds[\u001B[38;5;124m\"\u001B[39m\u001B[38;5;124mhas_index_names\u001B[39m\u001B[38;5;124m\"\u001B[39m]\n\u001B[0;32m   1619\u001B[0m \u001B[38;5;28mself\u001B[39m\u001B[38;5;241m.\u001B[39mhandles: IOHandles \u001B[38;5;241m|\u001B[39m \u001B[38;5;28;01mNone\u001B[39;00m \u001B[38;5;241m=\u001B[39m \u001B[38;5;28;01mNone\u001B[39;00m\n\u001B[1;32m-> 1620\u001B[0m \u001B[38;5;28mself\u001B[39m\u001B[38;5;241m.\u001B[39m_engine \u001B[38;5;241m=\u001B[39m \u001B[38;5;28;43mself\u001B[39;49m\u001B[38;5;241;43m.\u001B[39;49m\u001B[43m_make_engine\u001B[49m\u001B[43m(\u001B[49m\u001B[43mf\u001B[49m\u001B[43m,\u001B[49m\u001B[43m \u001B[49m\u001B[38;5;28;43mself\u001B[39;49m\u001B[38;5;241;43m.\u001B[39;49m\u001B[43mengine\u001B[49m\u001B[43m)\u001B[49m\n",
      "File \u001B[1;32m~\\PycharmProjects\\PythonProject\\PythonProject\\TFM_turistificacioBCN\\.venv\\Lib\\site-packages\\pandas\\io\\parsers\\readers.py:1880\u001B[0m, in \u001B[0;36mTextFileReader._make_engine\u001B[1;34m(self, f, engine)\u001B[0m\n\u001B[0;32m   1878\u001B[0m     \u001B[38;5;28;01mif\u001B[39;00m \u001B[38;5;124m\"\u001B[39m\u001B[38;5;124mb\u001B[39m\u001B[38;5;124m\"\u001B[39m \u001B[38;5;129;01mnot\u001B[39;00m \u001B[38;5;129;01min\u001B[39;00m mode:\n\u001B[0;32m   1879\u001B[0m         mode \u001B[38;5;241m+\u001B[39m\u001B[38;5;241m=\u001B[39m \u001B[38;5;124m\"\u001B[39m\u001B[38;5;124mb\u001B[39m\u001B[38;5;124m\"\u001B[39m\n\u001B[1;32m-> 1880\u001B[0m \u001B[38;5;28mself\u001B[39m\u001B[38;5;241m.\u001B[39mhandles \u001B[38;5;241m=\u001B[39m \u001B[43mget_handle\u001B[49m\u001B[43m(\u001B[49m\n\u001B[0;32m   1881\u001B[0m \u001B[43m    \u001B[49m\u001B[43mf\u001B[49m\u001B[43m,\u001B[49m\n\u001B[0;32m   1882\u001B[0m \u001B[43m    \u001B[49m\u001B[43mmode\u001B[49m\u001B[43m,\u001B[49m\n\u001B[0;32m   1883\u001B[0m \u001B[43m    \u001B[49m\u001B[43mencoding\u001B[49m\u001B[38;5;241;43m=\u001B[39;49m\u001B[38;5;28;43mself\u001B[39;49m\u001B[38;5;241;43m.\u001B[39;49m\u001B[43moptions\u001B[49m\u001B[38;5;241;43m.\u001B[39;49m\u001B[43mget\u001B[49m\u001B[43m(\u001B[49m\u001B[38;5;124;43m\"\u001B[39;49m\u001B[38;5;124;43mencoding\u001B[39;49m\u001B[38;5;124;43m\"\u001B[39;49m\u001B[43m,\u001B[49m\u001B[43m \u001B[49m\u001B[38;5;28;43;01mNone\u001B[39;49;00m\u001B[43m)\u001B[49m\u001B[43m,\u001B[49m\n\u001B[0;32m   1884\u001B[0m \u001B[43m    \u001B[49m\u001B[43mcompression\u001B[49m\u001B[38;5;241;43m=\u001B[39;49m\u001B[38;5;28;43mself\u001B[39;49m\u001B[38;5;241;43m.\u001B[39;49m\u001B[43moptions\u001B[49m\u001B[38;5;241;43m.\u001B[39;49m\u001B[43mget\u001B[49m\u001B[43m(\u001B[49m\u001B[38;5;124;43m\"\u001B[39;49m\u001B[38;5;124;43mcompression\u001B[39;49m\u001B[38;5;124;43m\"\u001B[39;49m\u001B[43m,\u001B[49m\u001B[43m \u001B[49m\u001B[38;5;28;43;01mNone\u001B[39;49;00m\u001B[43m)\u001B[49m\u001B[43m,\u001B[49m\n\u001B[0;32m   1885\u001B[0m \u001B[43m    \u001B[49m\u001B[43mmemory_map\u001B[49m\u001B[38;5;241;43m=\u001B[39;49m\u001B[38;5;28;43mself\u001B[39;49m\u001B[38;5;241;43m.\u001B[39;49m\u001B[43moptions\u001B[49m\u001B[38;5;241;43m.\u001B[39;49m\u001B[43mget\u001B[49m\u001B[43m(\u001B[49m\u001B[38;5;124;43m\"\u001B[39;49m\u001B[38;5;124;43mmemory_map\u001B[39;49m\u001B[38;5;124;43m\"\u001B[39;49m\u001B[43m,\u001B[49m\u001B[43m \u001B[49m\u001B[38;5;28;43;01mFalse\u001B[39;49;00m\u001B[43m)\u001B[49m\u001B[43m,\u001B[49m\n\u001B[0;32m   1886\u001B[0m \u001B[43m    \u001B[49m\u001B[43mis_text\u001B[49m\u001B[38;5;241;43m=\u001B[39;49m\u001B[43mis_text\u001B[49m\u001B[43m,\u001B[49m\n\u001B[0;32m   1887\u001B[0m \u001B[43m    \u001B[49m\u001B[43merrors\u001B[49m\u001B[38;5;241;43m=\u001B[39;49m\u001B[38;5;28;43mself\u001B[39;49m\u001B[38;5;241;43m.\u001B[39;49m\u001B[43moptions\u001B[49m\u001B[38;5;241;43m.\u001B[39;49m\u001B[43mget\u001B[49m\u001B[43m(\u001B[49m\u001B[38;5;124;43m\"\u001B[39;49m\u001B[38;5;124;43mencoding_errors\u001B[39;49m\u001B[38;5;124;43m\"\u001B[39;49m\u001B[43m,\u001B[49m\u001B[43m \u001B[49m\u001B[38;5;124;43m\"\u001B[39;49m\u001B[38;5;124;43mstrict\u001B[39;49m\u001B[38;5;124;43m\"\u001B[39;49m\u001B[43m)\u001B[49m\u001B[43m,\u001B[49m\n\u001B[0;32m   1888\u001B[0m \u001B[43m    \u001B[49m\u001B[43mstorage_options\u001B[49m\u001B[38;5;241;43m=\u001B[39;49m\u001B[38;5;28;43mself\u001B[39;49m\u001B[38;5;241;43m.\u001B[39;49m\u001B[43moptions\u001B[49m\u001B[38;5;241;43m.\u001B[39;49m\u001B[43mget\u001B[49m\u001B[43m(\u001B[49m\u001B[38;5;124;43m\"\u001B[39;49m\u001B[38;5;124;43mstorage_options\u001B[39;49m\u001B[38;5;124;43m\"\u001B[39;49m\u001B[43m,\u001B[49m\u001B[43m \u001B[49m\u001B[38;5;28;43;01mNone\u001B[39;49;00m\u001B[43m)\u001B[49m\u001B[43m,\u001B[49m\n\u001B[0;32m   1889\u001B[0m \u001B[43m\u001B[49m\u001B[43m)\u001B[49m\n\u001B[0;32m   1890\u001B[0m \u001B[38;5;28;01massert\u001B[39;00m \u001B[38;5;28mself\u001B[39m\u001B[38;5;241m.\u001B[39mhandles \u001B[38;5;129;01mis\u001B[39;00m \u001B[38;5;129;01mnot\u001B[39;00m \u001B[38;5;28;01mNone\u001B[39;00m\n\u001B[0;32m   1891\u001B[0m f \u001B[38;5;241m=\u001B[39m \u001B[38;5;28mself\u001B[39m\u001B[38;5;241m.\u001B[39mhandles\u001B[38;5;241m.\u001B[39mhandle\n",
      "File \u001B[1;32m~\\PycharmProjects\\PythonProject\\PythonProject\\TFM_turistificacioBCN\\.venv\\Lib\\site-packages\\pandas\\io\\common.py:873\u001B[0m, in \u001B[0;36mget_handle\u001B[1;34m(path_or_buf, mode, encoding, compression, memory_map, is_text, errors, storage_options)\u001B[0m\n\u001B[0;32m    868\u001B[0m \u001B[38;5;28;01melif\u001B[39;00m \u001B[38;5;28misinstance\u001B[39m(handle, \u001B[38;5;28mstr\u001B[39m):\n\u001B[0;32m    869\u001B[0m     \u001B[38;5;66;03m# Check whether the filename is to be opened in binary mode.\u001B[39;00m\n\u001B[0;32m    870\u001B[0m     \u001B[38;5;66;03m# Binary mode does not support 'encoding' and 'newline'.\u001B[39;00m\n\u001B[0;32m    871\u001B[0m     \u001B[38;5;28;01mif\u001B[39;00m ioargs\u001B[38;5;241m.\u001B[39mencoding \u001B[38;5;129;01mand\u001B[39;00m \u001B[38;5;124m\"\u001B[39m\u001B[38;5;124mb\u001B[39m\u001B[38;5;124m\"\u001B[39m \u001B[38;5;129;01mnot\u001B[39;00m \u001B[38;5;129;01min\u001B[39;00m ioargs\u001B[38;5;241m.\u001B[39mmode:\n\u001B[0;32m    872\u001B[0m         \u001B[38;5;66;03m# Encoding\u001B[39;00m\n\u001B[1;32m--> 873\u001B[0m         handle \u001B[38;5;241m=\u001B[39m \u001B[38;5;28;43mopen\u001B[39;49m\u001B[43m(\u001B[49m\n\u001B[0;32m    874\u001B[0m \u001B[43m            \u001B[49m\u001B[43mhandle\u001B[49m\u001B[43m,\u001B[49m\n\u001B[0;32m    875\u001B[0m \u001B[43m            \u001B[49m\u001B[43mioargs\u001B[49m\u001B[38;5;241;43m.\u001B[39;49m\u001B[43mmode\u001B[49m\u001B[43m,\u001B[49m\n\u001B[0;32m    876\u001B[0m \u001B[43m            \u001B[49m\u001B[43mencoding\u001B[49m\u001B[38;5;241;43m=\u001B[39;49m\u001B[43mioargs\u001B[49m\u001B[38;5;241;43m.\u001B[39;49m\u001B[43mencoding\u001B[49m\u001B[43m,\u001B[49m\n\u001B[0;32m    877\u001B[0m \u001B[43m            \u001B[49m\u001B[43merrors\u001B[49m\u001B[38;5;241;43m=\u001B[39;49m\u001B[43merrors\u001B[49m\u001B[43m,\u001B[49m\n\u001B[0;32m    878\u001B[0m \u001B[43m            \u001B[49m\u001B[43mnewline\u001B[49m\u001B[38;5;241;43m=\u001B[39;49m\u001B[38;5;124;43m\"\u001B[39;49m\u001B[38;5;124;43m\"\u001B[39;49m\u001B[43m,\u001B[49m\n\u001B[0;32m    879\u001B[0m \u001B[43m        \u001B[49m\u001B[43m)\u001B[49m\n\u001B[0;32m    880\u001B[0m     \u001B[38;5;28;01melse\u001B[39;00m:\n\u001B[0;32m    881\u001B[0m         \u001B[38;5;66;03m# Binary mode\u001B[39;00m\n\u001B[0;32m    882\u001B[0m         handle \u001B[38;5;241m=\u001B[39m \u001B[38;5;28mopen\u001B[39m(handle, ioargs\u001B[38;5;241m.\u001B[39mmode)\n",
      "\u001B[1;31mFileNotFoundError\u001B[0m: [Errno 2] No such file or directory: './aforaments-descriptiu.csv'"
     ]
    }
   ],
   "execution_count": 2
  },
  {
   "cell_type": "code",
   "execution_count": null,
   "id": "c0ef3a2f-51a8-4640-b785-c463c8a5060e",
   "metadata": {},
   "outputs": [],
   "source": [
    "#Busca els valors nuls\n",
    "nulls = af_desc_df.isnull().sum()\n",
    "print(nulls)"
   ]
  },
  {
   "cell_type": "markdown",
   "id": "9907dfba-dfe5-4ec5-a574-33d745e756d3",
   "metadata": {},
   "source": [
    "Observem dues columnes per al codi del barri, amb gran nombre de valors nuls. Comprovem si la suma dels nuls de tots dos és el total de registres, ja que això indicaria que hi ha alguna errada en combinar els arxius csv que fa que la columna s'hagi duplicat i tingui el valor nul en una d'elles quan l'altre està informada."
   ]
  },
  {
   "cell_type": "code",
   "execution_count": null,
   "id": "bb063a48-a313-4e7b-8065-e0bcef173d3e",
   "metadata": {},
   "outputs": [],
   "source": [
    "print(\"Total nuls columnes codi_barri: \", af_desc_df['Codi_Barri'].isnull().sum()+af_desc_df['Codi_barri'].isnull().sum())\n",
    "print(\"Llargada dataset: \", len(af_desc_df))"
   ]
  },
  {
   "cell_type": "markdown",
   "id": "02d4def4-d005-4f32-b24c-1f45d958f8c1",
   "metadata": {},
   "source": [
    "Observem que ha d'haver-hi alguna columna on totes dues columnes siguin nul·les. Comprovem si coincideixen amb aquelles on Id_aforament també ho són"
   ]
  },
  {
   "cell_type": "code",
   "execution_count": null,
   "id": "b6e95a84-2490-4465-bde3-9b12ef7b54fa",
   "metadata": {},
   "outputs": [],
   "source": [
    "#Seleccionem només els registres on Id_aforament no és nul. A més, aquest registre no ens interessa, donat que no podrem identificar \n",
    "#el dispositiu de mesura en no tenir número d'identificador. \n",
    "af_desc_filtered = af_desc_df[af_desc_df['Id_aforament'].notnull()]\n",
    "\n",
    "#Tornem a comprovar les llargades dels nuls codis barri amb el total del dataset\n",
    "print(\"Total nuls columnes codi_barri: \", af_desc_filtered['Codi_Barri'].isnull().sum()+af_desc_filtered['Codi_barri'].isnull().sum())\n",
    "print(\"Llargada dataset: \", len(af_desc_filtered))"
   ]
  },
  {
   "cell_type": "markdown",
   "id": "b6afc38c-7931-40f9-b158-b4221bc2f508",
   "metadata": {},
   "source": [
    "Continua havent més nuls, per tant hi ha algun registre on totes dues columnes son nul·les. A continuació, substituim els nuls de la columna Codi_Barri per el valor de la columna Codi_barri, i eliminem aquesta darrera. Després comprovem si queden valors nuls a la columna Codi_Barri"
   ]
  },
  {
   "cell_type": "code",
   "execution_count": null,
   "id": "084a6b84-3252-4ddc-bf1c-e83ade971801",
   "metadata": {},
   "outputs": [],
   "source": [
    "af_desc_filtered['Codi_Barri'] = af_desc_filtered['Codi_Barri'].fillna(af_desc_filtered['Codi_barri'])\n",
    "af_desc_filtered = af_desc_filtered.drop('Codi_barri', axis=1)\n",
    "print(\"Total nuls columnes codi_barri: \", af_desc_filtered.isnull().sum())"
   ]
  },
  {
   "cell_type": "code",
   "execution_count": null,
   "id": "0e152dca-f8f6-4ca2-8cb6-7168ffdf8103",
   "metadata": {},
   "outputs": [],
   "source": [
    "#Finalment, eliminem els dos registres amb valors nuls que queden, ja què suposen una pèrdua irrellevant de dades.\n",
    "af_desc_nonull = af_desc_filtered[af_desc_filtered['Codi_Barri'].notnull()]\n",
    "af_desc_nonull.to_csv(\"aforaments-descriptiu.csv\", index=False)"
   ]
  },
  {
   "cell_type": "markdown",
   "id": "d16a2933-a0f2-4347-b4a0-a1e2165bb37c",
   "metadata": {},
   "source": [
    "El tractament dels diferents nuls dependrà del que extraiem de l'anàlisi dels valors nuls. Ara començarem amb la càrrega del següent arxiu"
   ]
  },
  {
   "cell_type": "code",
   "execution_count": null,
   "id": "9e37d60b-8f43-4650-a165-4232cb948074",
   "metadata": {},
   "outputs": [],
   "source": [
    "#Carreguem l'arxiu a inspeccionar\n",
    "af_det_df = pd.read_csv(\"./aforaments-detall.csv\")\n",
    "#Busca els valors nuls\n",
    "nulls = af_det_df.isnull().sum()\n",
    "print(nulls)"
   ]
  },
  {
   "cell_type": "markdown",
   "id": "dfad941c-aaa6-43b9-b34d-48b26d81e880",
   "metadata": {},
   "source": [
    "Únicament trobem dos nuls a cada columna. Comprovem si es tracta dels mateixos registres."
   ]
  },
  {
   "cell_type": "code",
   "execution_count": null,
   "id": "d71737c4-262f-4f0f-98fb-8d0a0b517c99",
   "metadata": {},
   "outputs": [],
   "source": [
    "af_det_nulls = af_det_df[af_det_df.isnull().any(axis=1)]\n",
    "af_det_nulls"
   ]
  },
  {
   "cell_type": "markdown",
   "id": "53231bd9-2f31-401b-8f5e-b799c8092218",
   "metadata": {},
   "source": [
    "Efectivament, es tracta de dues fileres amb tots els valors nuls, i que per tant, directament eliminarem donat que no afectarà al nostre estudi."
   ]
  },
  {
   "cell_type": "code",
   "execution_count": null,
   "id": "e805c2e8-6432-454b-b350-40cba0c0639b",
   "metadata": {},
   "outputs": [],
   "source": [
    "#Eliminem fileres amb nuls\n",
    "af_det_cl = af_det_df.dropna()\n",
    "#Substituim el csv amb aquest net\n",
    "af_det_cl.to_csv(\"aforaments-detall.csv\", index=False)"
   ]
  },
  {
   "cell_type": "markdown",
   "id": "eb41b282-c2ce-481c-b433-f26b061f19f8",
   "metadata": {},
   "source": [
    "Carreguem ara el següent, 'cens-activitats-comercials'"
   ]
  },
  {
   "cell_type": "code",
   "execution_count": null,
   "id": "446ed14e-fa6d-4add-9bd1-0550f9f7eb0c",
   "metadata": {},
   "outputs": [],
   "source": [
    "#Carreguem l'arxiu a inspeccionar\n",
    "cac_df = pd.read_csv(\"./cens-activitats-comercials.csv\")\n",
    "#Busca els valors nuls\n",
    "nulls = cac_df.isnull().sum()\n",
    "print(nulls)"
   ]
  },
  {
   "cell_type": "markdown",
   "id": "78e90a2e-a295-4426-9bac-0446d93677bb",
   "metadata": {},
   "source": [
    "En primer lloc, existeix un altre dataset amb els codis de barri i noms de barri. A partir de les columnes Nom_Barri i NBARRI podem assignar gran part dels Codi_Barri. El carreguem\n"
   ]
  },
  {
   "cell_type": "code",
   "execution_count": null,
   "id": "ccc0df55-dd5a-4aef-ae00-65d52040340e",
   "metadata": {},
   "outputs": [],
   "source": [
    "barris_df = pd.read_csv(\"./unitats-administratives-barris.csv\")\n",
    "#Creem un diccionari amb els codis de barri i noms de barri\n",
    "code_barris = dict(zip(barris_df['nom_barri'], barris_df['codi_barri']))\n",
    "#Assignem aquells que sigui el Codi_Barri nul a partir de la columna CBARRI\n",
    "cac_df.loc[cac_df['Codi_Barri'].isnull(), 'Codi_Barri'] = cac_df['Nom_Barri'].map(code_barris)\n",
    "#Fem el mateix amb la columna NBARRI\n",
    "cac_df.loc[cac_df['Codi_Barri'].isnull(), 'Codi_Barri'] = cac_df['NBARRI'].map(code_barris)\n",
    "print(cac_df.isnull().sum())"
   ]
  },
  {
   "cell_type": "markdown",
   "id": "00917593-400b-46c1-8b01-3ba8fb6ba1a1",
   "metadata": {},
   "source": [
    "Hem reduit significativament el nombre de registres sense codi de barri. Mirem ara d'assignar als nuls Codi_Barri, la columna CBARRI que pot indicar el mateix"
   ]
  },
  {
   "cell_type": "code",
   "execution_count": null,
   "id": "dd28e577-5cda-4c98-bdd5-f36aa5e4575e",
   "metadata": {},
   "outputs": [],
   "source": [
    "cac_df['Codi_Barri'] = cac_df['Codi_Barri'].fillna(cac_df['CBARRI'])\n",
    "print(cac_df.isnull().sum())"
   ]
  },
  {
   "cell_type": "markdown",
   "id": "d90dbd95-8f62-421f-a68b-23e28d9e6ebb",
   "metadata": {},
   "source": [
    "Ara mirarem de fer el mateix amb el camp Data_Revisio, assignant-li el camp DATA"
   ]
  },
  {
   "cell_type": "code",
   "execution_count": null,
   "id": "fa2df802-6534-41bf-a7af-bb566947a1e3",
   "metadata": {},
   "outputs": [],
   "source": [
    "cac_df['Data_Revisio'] = cac_df['Data_Revisio'].fillna(cac_df['DATA'])\n",
    "print(cac_df.isnull().sum())"
   ]
  },
  {
   "cell_type": "markdown",
   "id": "d5aa0454-ae22-4b5e-b1d3-21bb729c672f",
   "metadata": {},
   "source": [
    "Tot i que encara el nombre de valors nuls és molt elevat (1/3 part del dataset no té data de revisió informada), aquests registres no ens interessen ja què no els podem assignar a cap any. Els eliminem, ja què a més hem de tenir en compte que aquest dataset el combinarem amb un altre amb informació similar d'altres anys."
   ]
  },
  {
   "cell_type": "code",
   "execution_count": null,
   "id": "f85c7e53-7433-4361-ae8f-5f9f9eeffff9",
   "metadata": {},
   "outputs": [],
   "source": [
    "cac_df2 = pd.read_csv(\"./cens-locals-planta-baixa-act-economica.csv\")\n",
    "#Calculem quin seria el percentatge respecte el total dels dos datasets si es combinessin\n",
    "perc_nuls = ((cac_df['Data_Revisio'].isnull().sum())/(len(cac_df)+len(cac_df2)))*100\n",
    "print(\"El percentatge de registres sense identificar la data sobre el total és del \", perc_nuls, \"%\")"
   ]
  },
  {
   "cell_type": "markdown",
   "id": "25368738-720b-4d66-871a-b69b05172c32",
   "metadata": {},
   "source": [
    "El percentatge continua essent força elevat, però si mirem la longitud del dataset, veiem que hi ha suficients registres per analitzar eliminant els que no tenen barri."
   ]
  },
  {
   "cell_type": "code",
   "execution_count": null,
   "id": "662c3ff3-8ee0-4fd4-9864-e1b8a5f846f2",
   "metadata": {},
   "outputs": [],
   "source": [
    "print(len(cac_df)+len(cac_df2)-cac_df['Data_Revisio'].isnull().sum())"
   ]
  },
  {
   "cell_type": "code",
   "execution_count": null,
   "id": "296dbe9b-dce3-419b-b265-697f06ddd71c",
   "metadata": {},
   "outputs": [],
   "source": [
    "cac_df = cac_df[cac_df['Data_Revisio'].notnull()]\n",
    "cac_df = cac_df[cac_df['Codi_Barri'].notnull()]\n",
    "len(cac_df)"
   ]
  },
  {
   "cell_type": "markdown",
   "id": "20e9814e-9613-402f-8999-9f618e37e1a1",
   "metadata": {},
   "source": [
    "Veiem que entre els dos datasets continuem tenint prop de 100000 registres, que són més que suficients. Pel que fa als nuls en la columna 'Codi_Grup_Activitat' no els tractarem i els deixarem tal qual. A l'hora de calcular les variables necessàries, els tractarem com si fossin activitats no típiques dels processos de gentrificació/turistificació."
   ]
  },
  {
   "cell_type": "code",
   "execution_count": null,
   "id": "5cf42450-e522-488a-bb4a-2f091295286b",
   "metadata": {},
   "outputs": [],
   "source": [
    "cac_df.to_csv(\"cens-activitats-comercials.csv\", index=False)"
   ]
  },
  {
   "cell_type": "markdown",
   "id": "c7ab6fba-1cd8-40cf-b689-054aa46b1af7",
   "metadata": {},
   "source": [
    "Carreguem el següent dataset, 'culturailleure-bibliotequesimuseus'"
   ]
  },
  {
   "cell_type": "code",
   "execution_count": null,
   "id": "37dc3ba0-9f09-4e2c-bd64-fe0b2310f39c",
   "metadata": {},
   "outputs": [],
   "source": [
    "#Carreguem l'arxiu a inspeccionar\n",
    "bim_df = pd.read_csv(\"./culturailleure-bibliotequesimuseus.csv\")\n",
    "#Busca els valors nuls\n",
    "nulls = bim_df.isnull().sum()\n",
    "print(nulls)"
   ]
  },
  {
   "cell_type": "code",
   "execution_count": null,
   "id": "1682312b-5137-48ae-8132-53554621b549",
   "metadata": {},
   "outputs": [],
   "source": [
    "#Calculem percentatge de nuls\n",
    "perc_nuls = (bim_df['addresses_neighborhood_id'].isnull().sum()/len(bim_df))*100\n",
    "print(\"El percentatge de nuls és de \", perc_nuls, \"%\")"
   ]
  },
  {
   "cell_type": "markdown",
   "id": "17de0ada-8bb9-4b5d-bccb-54f21a6acfe6",
   "metadata": {},
   "source": [
    "Novament el nombre de nuls és mínim respecte el total de registres. Per tant, eliminem els registres nuls i guardem el csv net"
   ]
  },
  {
   "cell_type": "code",
   "execution_count": null,
   "id": "aa2bb8d0-9a6c-4cb9-b90d-91493ee3ba3f",
   "metadata": {},
   "outputs": [],
   "source": [
    "bim_clean = bim_df.dropna()\n",
    "bim_clean.to_csv(\"culturailleure-bibliotequesimuseus.csv\", index=False)"
   ]
  },
  {
   "cell_type": "markdown",
   "id": "d56b4b04-3168-4750-afdf-7b857685be08",
   "metadata": {},
   "source": [
    "Els següents tres datasets són similars, donat que estan relacionats amb l'assistència a esdeveniments culturals. Carreguem els tres."
   ]
  },
  {
   "cell_type": "code",
   "execution_count": null,
   "id": "80f8769f-4983-4548-b3d3-fd0057725024",
   "metadata": {},
   "outputs": [],
   "source": [
    "#Carreguem l'arxiu a inspeccionar\n",
    "dae_df = pd.read_csv(\"./dades-arts-esceniques.csv\")\n",
    "daf_df = pd.read_csv(\"./dades-festivals.csv\")\n",
    "dme_df = pd.read_csv(\"./dades-museus-exposicions.csv\")"
   ]
  },
  {
   "cell_type": "code",
   "execution_count": null,
   "id": "354ccf12-420a-4357-bb39-1fb22bebf6c6",
   "metadata": {},
   "outputs": [],
   "source": [
    "#Busca els valors nuls en cada dataset\n",
    "nulls_dae = dae_df.isnull().sum()\n",
    "nulls_daf = daf_df.isnull().sum()\n",
    "nulls_dme = dme_df.isnull().sum()\n",
    "print(\"Nulls dades arts escèniques: \", nulls_dae)\n",
    "print(\"Nulls dades festivals: \", nulls_daf)\n",
    "print(\"Nulls dades museus: \", nulls_dme)"
   ]
  },
  {
   "cell_type": "markdown",
   "id": "9a7a793d-4740-44b2-a01e-e308d227e95d",
   "metadata": {},
   "source": [
    "Hi ha dos datasets amb un nombre baix de nuls en codi barri, i que coincideix amb nombre amb nom_barri. Si fossin els mateixos registres, els eliminarem, ja que no podrem identificar-los"
   ]
  },
  {
   "cell_type": "code",
   "execution_count": null,
   "id": "d24e1c49-1aec-4561-ae32-c777f76fbc4c",
   "metadata": {},
   "outputs": [],
   "source": [
    "nulls_arts = dae_df[dae_df['Codi_Barri'].isnull()]\n",
    "nulls_museus = dme_df[dme_df['Codi_Barri'].isnull()]\n",
    "print(nulls_arts.isnull().sum(), \"total registres: \", len(nulls_arts))\n",
    "print(nulls_museus.isnull().sum(), \"total registres: \", len(nulls_museus))"
   ]
  },
  {
   "cell_type": "markdown",
   "id": "65525e05-8088-4530-8aa7-e994fab3b78c",
   "metadata": {},
   "source": [
    "Podem eliminar aquests registres."
   ]
  },
  {
   "cell_type": "code",
   "execution_count": null,
   "id": "0a8b7191-966a-4d95-9fbf-8dd71d702359",
   "metadata": {},
   "outputs": [],
   "source": [
    "dae_df = dae_df[dae_df['Codi_Barri'].notnull()]\n",
    "dme_df = dme_df[dme_df['Codi_Barri'].notnull()]"
   ]
  },
  {
   "cell_type": "code",
   "execution_count": null,
   "id": "f757a4c9-1ef1-4eeb-8b85-c9bcb63815ab",
   "metadata": {},
   "outputs": [],
   "source": [
    "#Mirem els valors únics de les columnes amb nulls en aquests dos datasets\n",
    "print(\"Valors únics 'Tipus_Equipament' arts escèniques: \", dae_df['Tipus_Equipament'].unique())\n",
    "print(\"Valors únics 'TipusEquipament' museus: \", dme_df['TipusEquipament'].unique())"
   ]
  },
  {
   "cell_type": "markdown",
   "id": "f8490497-102a-4f37-b68e-b8bc14a9a51b",
   "metadata": {},
   "source": [
    "Donat que aquesta columna no ens dona cap informació rellevant pel tractament de les dades, li assignarem als valors nuls el valor 'Arts escèniques' en el cas del primer dataset, i 'Museus i exposicions' en el cas del segon. Guardem aquests dos nous csv substituint els originals."
   ]
  },
  {
   "cell_type": "code",
   "execution_count": null,
   "id": "ddd73e32-440d-4b68-b0e0-7810c5244f21",
   "metadata": {},
   "outputs": [],
   "source": [
    "dae_df['Tipus_Equipament'] = dae_df['Tipus_Equipament'].fillna(\"Arts escèniques\")\n",
    "dme_df['TipusEquipament'] = dme_df['TipusEquipament'].fillna(\"Museus i exposicions\")\n",
    "dae_df.to_csv(\"dades-arts-esceniques.csv\", index=False)\n",
    "dme_df.to_csv(\"dades-museus-exposicions.csv\", index=False)"
   ]
  },
  {
   "cell_type": "markdown",
   "id": "5306b0b5-7f86-4f76-b8de-ea47bdaaa5a0",
   "metadata": {},
   "source": [
    "En el cas de dades a festivals, primer mirem els valors únics de la columna 'Espai'"
   ]
  },
  {
   "cell_type": "code",
   "execution_count": null,
   "id": "143ee3bd-5bea-4b9b-be9a-d603c8303be1",
   "metadata": {},
   "outputs": [],
   "source": [
    "daf_df['Espai'].unique()"
   ]
  },
  {
   "cell_type": "markdown",
   "id": "9bbcd174-3fda-4823-b394-678557e968c6",
   "metadata": {},
   "source": [
    "En aquest cas, la columna 'Espai' ens indica el lloc on es produeix l'event, i a partir del dataset 'equipaments-culturals.icub' podrem identificar el barri on es produeix. Per tant, en aquest cas els valors nuls no ens aporten cap informació i eliminarem els registres."
   ]
  },
  {
   "cell_type": "code",
   "execution_count": null,
   "id": "0c1aa967-78f4-40d0-aee5-07dc8db82256",
   "metadata": {},
   "outputs": [],
   "source": [
    "daf_df = daf_df[daf_df['Espai'].notnull()]"
   ]
  },
  {
   "cell_type": "markdown",
   "id": "e681f55a-886f-4d45-8f2d-7745797a6428",
   "metadata": {},
   "source": [
    "Pel que fa a les altres columnes que presenten nuls, fan referència al nombre d'assistents de fora de Barcelona, de Barcelona i el total. En aquest cas únicament ens interessa la columna d'Assistents totals. Mirem si a partir de les altres dues es poden omplir nuls sumant assistents de fora de Barcelona i de Barcelona."
   ]
  },
  {
   "cell_type": "code",
   "execution_count": null,
   "id": "2eaa05b1-84c4-4c40-81c1-ffb7f486dd35",
   "metadata": {},
   "outputs": [],
   "source": [
    "daf_df['Assistents'] = daf_df['Assistents'].fillna(daf_df['Assistents_fora_de_Barcelona']+daf_df['Assistents_a_Barcelona'])\n",
    "print(daf_df.isnull().sum())"
   ]
  },
  {
   "cell_type": "markdown",
   "id": "7c9af5c7-5154-4682-ac48-33523cece1ae",
   "metadata": {},
   "source": [
    "Amb aquesta assignació només hem pogut assignar als valors nuls d'Assistents, aquells en que no hi havia cap nul a les altres dues columnes. Però encara podem reassignar valors, els valors no nuls de les columnes d'assistència a Barcelona, o fora de Barcelona, a Assistents quan aquesta és nul·la"
   ]
  },
  {
   "cell_type": "code",
   "execution_count": null,
   "id": "cb124690-28e1-4805-a6fa-ad53fe20586f",
   "metadata": {},
   "outputs": [],
   "source": [
    "daf_df['Assistents'] = (daf_df['Assistents'].fillna(daf_df['Assistents_fora_de_Barcelona']))\n",
    "daf_df['Assistents'] = (daf_df['Assistents'].fillna(daf_df['Assistents_a_Barcelona']))\n",
    "print(daf_df.isnull().sum())"
   ]
  },
  {
   "cell_type": "markdown",
   "id": "7701da23-5c33-44c1-a308-18ee6f07b10a",
   "metadata": {},
   "source": [
    "Eliminem les dues columnes sobrants, i els nuls de la columna Assistents, donat que no ens donen informació."
   ]
  },
  {
   "cell_type": "code",
   "execution_count": null,
   "id": "4d06f888-b8f3-488a-ab9a-bda58497d2a9",
   "metadata": {},
   "outputs": [],
   "source": [
    "columnes = ['Assistents_fora_de_Barcelona', 'Assistents_a_Barcelona']\n",
    "daf_df = daf_df.drop(columnes, axis=1)\n",
    "daf_df = daf_df.dropna()"
   ]
  },
  {
   "cell_type": "markdown",
   "id": "657d1f24-362c-42ed-bd95-76b4e9cc3033",
   "metadata": {},
   "source": [
    "Finalment, substituim el csv original"
   ]
  },
  {
   "cell_type": "code",
   "execution_count": null,
   "id": "9617e324-e3eb-4191-b768-faf281e24de7",
   "metadata": {},
   "outputs": [],
   "source": [
    "daf_df.to_csv(\"dades-festivals.csv\", index=False)"
   ]
  },
  {
   "cell_type": "markdown",
   "id": "eac4759a-be97-40af-8eb9-b4392dbf7876",
   "metadata": {},
   "source": [
    "Ara carreguem l'arxiu d'equipaments-restaurants"
   ]
  },
  {
   "cell_type": "code",
   "execution_count": null,
   "id": "b519c69d-3c53-4746-b967-c12a3f1020e3",
   "metadata": {},
   "outputs": [],
   "source": [
    "#Carreguem l'arxiu a inspeccionar\n",
    "rest_df = pd.read_csv(\"./equipament-restaurants.csv\")\n",
    "#Imprimim els valors nuls per variable\n",
    "print(rest_df.isnull().sum())"
   ]
  },
  {
   "cell_type": "markdown",
   "id": "556097c5-c926-45f1-a8bd-f5ea6598f31b",
   "metadata": {},
   "source": [
    "Únicament trobem un registre nul, corresponent al nom del barri, però com tenim l'identificador, no caldrà fer cap acció sobre el valor nul."
   ]
  },
  {
   "cell_type": "markdown",
   "id": "7f643a09-ca2a-451e-87c8-7ead4dce8f7d",
   "metadata": {},
   "source": [
    "Ara carreguem l'arxiu d'habitatges d'ús turístic"
   ]
  },
  {
   "cell_type": "code",
   "execution_count": null,
   "id": "a42ac27e-8f06-4a99-aaa8-b2767b37add9",
   "metadata": {},
   "outputs": [],
   "source": [
    "#Carreguem l'arxiu a inspeccionar\n",
    "hut_df = pd.read_csv(\"./habitatges-us-turistic.csv\")\n",
    "#Imprimim els valors nuls per variable\n",
    "print(hut_df.isnull().sum())"
   ]
  },
  {
   "cell_type": "code",
   "execution_count": null,
   "id": "91e57e48-08e1-4b58-88e8-e0888fe009ae",
   "metadata": {},
   "outputs": [],
   "source": [
    "#Mirem el percentatge que suposen, donat que sense l'identificador del barri no podem treballar, els haurem d'eliminar de totes maneres.\n",
    "print(\"El percentatge de nuls és de :\", (hut_df['CODI_BARRI'].isnull().sum()/len(hut_df))*100, \"%\")"
   ]
  },
  {
   "cell_type": "markdown",
   "id": "f4936c67-bf8f-4cb4-8f99-c0f86f9589a0",
   "metadata": {},
   "source": [
    "Farem servir un altre cop el dataset amb els codis de barri i noms de barri. A partir de les columnes BARRI i NOM_BARRI podem assignar gran part dels CODI_BARRI. El carreguem"
   ]
  },
  {
   "cell_type": "markdown",
   "id": "bd92a0d6-d19c-450f-aa84-efe5e5923af6",
   "metadata": {},
   "source": [
    "Assignem els codis del barri a partir del dataframe en aquells en que CODI_BARRI és nul"
   ]
  },
  {
   "cell_type": "code",
   "execution_count": null,
   "id": "e5841b17-6208-4f9b-bacf-13c62398527d",
   "metadata": {},
   "outputs": [],
   "source": [
    "#Creem un diccionari amb els codis de barri i noms de barri\n",
    "code_barris = dict(zip(barris_df['nom_barri'], barris_df['codi_barri']))\n",
    "#Assignem aquells que sigui el CODI_BARRI nul a partir de la columna BARRI\n",
    "hut_df.loc[hut_df['CODI_BARRI'].isnull(), 'CODI_BARRI'] = hut_df['BARRI'].map(code_barris)\n",
    "#Fem el mateix amb la columna NOM_BARRI\n",
    "hut_df.loc[hut_df['CODI_BARRI'].isnull(), 'CODI_BARRI'] = hut_df['NOM_BARRI'].map(code_barris)\n",
    "print(hut_df.isnull().sum())"
   ]
  },
  {
   "cell_type": "markdown",
   "id": "cce93273-dadb-450e-bcc3-ae6857af7600",
   "metadata": {},
   "source": [
    "Detectem que hi ha encara codis sense assignar. Es pot tractar perquè el nom del barri no estigui introduit de la mateixa manera que al dataset dels codis. Comparem els valors únics d'un i altre."
   ]
  },
  {
   "cell_type": "code",
   "execution_count": null,
   "id": "69f9df7c-a253-4364-b7ac-e2fcfcda9951",
   "metadata": {},
   "outputs": [],
   "source": [
    "noms_barris_oficial = list(barris_df['nom_barri'].unique())\n",
    "noms_barris_hut = list(hut_df['BARRI'].unique())\n",
    "noms_barris_hut2 = list(hut_df['NOM_BARRI'].unique())"
   ]
  },
  {
   "cell_type": "markdown",
   "id": "3e89bcec-7f4f-4f3a-99b7-b1a808e1d83a",
   "metadata": {},
   "source": [
    "Comparem les llistes de valors únics per extreure quins són els diferents. Els fem per separat les dues columnes per a fer després les conversions necessàries."
   ]
  },
  {
   "cell_type": "code",
   "execution_count": null,
   "id": "bf0b2452-50ad-40c2-beff-18718c467462",
   "metadata": {},
   "outputs": [],
   "source": [
    "barri_dif = []\n",
    "nom_barri_dif = []\n",
    "for i in noms_barris_hut:\n",
    "    if i not in noms_barris_oficial:\n",
    "        barri_dif.append(i)\n",
    "for i in noms_barris_hut2:\n",
    "    if i not in noms_barris_oficial:\n",
    "        nom_barri_dif.append(i)\n",
    "print(barri_dif)\n",
    "print(nom_barri_dif)"
   ]
  },
  {
   "cell_type": "markdown",
   "id": "9806117e-82fc-4e8c-9806-e4695e808172",
   "metadata": {},
   "source": [
    "Si comparem amb els noms oficials, tenim les següents correspondències (el segon és l'oficial):\n",
    "\n",
    "el Poble Sec: el Poble-sec\n",
    "\n",
    "Sant Pere Santa Caterina i la Ribera: Sant Pere, Santa Caterina i la Ribera\n",
    "\n",
    "Vallvidrera el Tibidabo i les Planes: Vallvidrera, el Tibidabo i les Planes\n",
    "\n",
    "Per tant, fem les substitucions que corresponguin al dataset i tornem a fer l'assignació de codis als valors nuls"
   ]
  },
  {
   "cell_type": "code",
   "execution_count": null,
   "id": "46ab3c85-9a06-41da-8c65-0eea79eca3e4",
   "metadata": {},
   "outputs": [],
   "source": [
    "hut_df.loc[hut_df['BARRI']=='el Poble Sec', 'BARRI'] = 'el Poble-sec'\n",
    "hut_df.loc[hut_df['BARRI']=='Sant Pere Santa Caterina i la Ribera', 'BARRI'] = 'Sant Pere, Santa Caterina i la Ribera'\n",
    "hut_df.loc[hut_df['BARRI']=='Vallvidrera el Tibidabo i les Planes', 'BARRI'] = 'Vallvidrera, el Tibidabo i les Planes'\n",
    "hut_df.loc[hut_df['NOM_BARRI']=='el Poble Sec', 'NOM_BARRI'] = 'el Poble-sec'\n",
    "\n",
    "hut_df.loc[hut_df['CODI_BARRI'].isnull(), 'CODI_BARRI'] = hut_df['BARRI'].map(code_barris)\n",
    "hut_df.loc[hut_df['CODI_BARRI'].isnull(), 'CODI_BARRI'] = hut_df['NOM_BARRI'].map(code_barris)\n",
    "\n",
    "print(hut_df.isnull().sum())"
   ]
  },
  {
   "cell_type": "markdown",
   "id": "bf777806-b398-4cf9-abe9-63d2ded6d405",
   "metadata": {},
   "source": [
    "Ara comprovarem que tots els registres amb CODI_BARRI nul ja no es poden deduir des d'altres camps"
   ]
  },
  {
   "cell_type": "code",
   "execution_count": null,
   "id": "a87e2990-6b24-4592-b3b5-b7cb418e6945",
   "metadata": {},
   "outputs": [],
   "source": [
    "huts_null = hut_df[hut_df['CODI_BARRI'].isnull()]\n",
    "print(huts_null.isnull().sum())"
   ]
  },
  {
   "cell_type": "markdown",
   "id": "923b0127-3637-4e98-bd40-81204e8b3381",
   "metadata": {},
   "source": [
    "Com podem comprovar, tots els registres son nuls. Per tant, els eliminem, eliminem les columnes amb el nom del barri que ja no necessitem, i guardem els canvis en el csv original"
   ]
  },
  {
   "cell_type": "code",
   "execution_count": null,
   "id": "71f7f4d3-eb78-4b84-904c-b5e30c8438b5",
   "metadata": {},
   "outputs": [],
   "source": [
    "cols_drop = ['BARRI', 'NOM_BARRI']\n",
    "hut_df = hut_df.drop(cols_drop, axis=1)\n",
    "hut_df = hut_df.dropna()\n",
    "hut_df.to_csv(\"habitatges-us-turistic.csv\", index=False)"
   ]
  },
  {
   "cell_type": "markdown",
   "id": "e37f9a84-8850-4700-8fb0-cbf297e7d743",
   "metadata": {},
   "source": [
    "Importem el darrer dataset on tenim valors nuls"
   ]
  },
  {
   "cell_type": "code",
   "execution_count": null,
   "id": "244628cd-a67c-4d87-adac-c83ac61eeb46",
   "metadata": {},
   "outputs": [],
   "source": [
    "#Carreguem l'arxiu a inspeccionar\n",
    "ter_df = pd.read_csv(\"./terrasses-comercos-vigents.csv\")\n",
    "#Imprimim els valors nuls per variable\n",
    "print(ter_df.isnull().sum())"
   ]
  },
  {
   "cell_type": "markdown",
   "id": "131d7f72-3db7-4c44-b84a-c0aa2181bb73",
   "metadata": {},
   "source": [
    "Novament, el nombre de nuls a CODI_BARRI i NOM_BARRI coincideix. Si es tracta dels mateixos registres, els eliminarem"
   ]
  },
  {
   "cell_type": "code",
   "execution_count": null,
   "id": "5c7b7563-8fd3-4728-82e6-6a93cb9f688f",
   "metadata": {},
   "outputs": [],
   "source": [
    "ter_nuls = ter_df[ter_df['CODI_BARRI'].isnull()]\n",
    "print(\"Total registres: \", len(ter_nuls), \"Nuls detectats: \", ter_nuls.isnull().sum())"
   ]
  },
  {
   "cell_type": "markdown",
   "id": "46f3a512-ce88-4fa0-a29a-173e429c0c08",
   "metadata": {},
   "source": [
    "Eliminem els nuls i substituim el csv original"
   ]
  },
  {
   "cell_type": "code",
   "execution_count": null,
   "id": "10a36172-8519-4622-b4d7-b9647dd2906c",
   "metadata": {},
   "outputs": [],
   "source": [
    "ter_df = ter_df.dropna()\n",
    "ter_df.to_csv(\"terrasses-comercos-vigents.csv\", index=False)"
   ]
  },
  {
   "cell_type": "code",
   "execution_count": null,
   "id": "11747f56-196c-4a69-9521-236351bafb95",
   "metadata": {},
   "outputs": [],
   "source": []
  }
 ],
 "metadata": {
  "kernelspec": {
   "display_name": "Python 3 (ipykernel)",
   "language": "python",
   "name": "python3"
  },
  "language_info": {
   "codemirror_mode": {
    "name": "ipython",
    "version": 3
   },
   "file_extension": ".py",
   "mimetype": "text/x-python",
   "name": "python",
   "nbconvert_exporter": "python",
   "pygments_lexer": "ipython3",
   "version": "3.12.7"
  }
 },
 "nbformat": 4,
 "nbformat_minor": 5
}
