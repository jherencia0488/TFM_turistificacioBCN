{
 "cells": [
  {
   "cell_type": "code",
   "execution_count": 1,
   "id": "70789a74-985c-488f-876f-7af8e1050610",
   "metadata": {},
   "outputs": [],
   "source": [
    "import pandas as pd"
   ]
  },
  {
   "cell_type": "code",
   "execution_count": 3,
   "id": "05fbf0a6-f24a-4ff8-94d5-3a98f4cc110b",
   "metadata": {},
   "outputs": [],
   "source": [
    "#Carreguem l'arxiu a inspeccionar\n",
    "af_desc_df = pd.read_csv(\"../Data_cleaning/selectedVars/aforaments-descriptiu.csv\")"
   ]
  },
  {
   "cell_type": "code",
   "execution_count": 5,
   "id": "c0ef3a2f-51a8-4640-b785-c463c8a5060e",
   "metadata": {},
   "outputs": [
    {
     "name": "stdout",
     "output_type": "stream",
     "text": [
      "Codi_Barri      1930\n",
      "Codi_barri      3097\n",
      "Id_aforament       3\n",
      "dtype: int64\n"
     ]
    }
   ],
   "source": [
    "#Busca els valors nuls\n",
    "nulls = af_desc_df.isnull().sum()\n",
    "print(nulls)"
   ]
  },
  {
   "cell_type": "markdown",
   "id": "9907dfba-dfe5-4ec5-a574-33d745e756d3",
   "metadata": {},
   "source": [
    "Observem dues columnes per al codi del barri, amb gran nombre de valors nuls. Comprovem si la suma dels nuls de tots dos és el total de registres, ja que això indicaria que hi ha alguna errada en combinar els arxius csv que fa que la columna s'hagi duplicat i tingui el valor nul en una d'elles quan l'altre està informada."
   ]
  },
  {
   "cell_type": "code",
   "execution_count": 8,
   "id": "bb063a48-a313-4e7b-8065-e0bcef173d3e",
   "metadata": {},
   "outputs": [
    {
     "name": "stdout",
     "output_type": "stream",
     "text": [
      "Total nuls columnes codi_barri:  5027\n",
      "Llargada dataset:  5022\n"
     ]
    }
   ],
   "source": [
    "print(\"Total nuls columnes codi_barri: \", af_desc_df['Codi_Barri'].isnull().sum()+af_desc_df['Codi_barri'].isnull().sum())\n",
    "print(\"Llargada dataset: \", len(af_desc_df))"
   ]
  },
  {
   "cell_type": "markdown",
   "id": "02d4def4-d005-4f32-b24c-1f45d958f8c1",
   "metadata": {},
   "source": [
    "Observem que ha d'haver-hi alguna columna on totes dues columnes siguin nul·les. Comprovem si coincideixen amb aquelles on Id_aforament també ho són"
   ]
  },
  {
   "cell_type": "code",
   "execution_count": 11,
   "id": "b6e95a84-2490-4465-bde3-9b12ef7b54fa",
   "metadata": {},
   "outputs": [
    {
     "name": "stdout",
     "output_type": "stream",
     "text": [
      "Total nuls columnes codi_barri:  5021\n",
      "Llargada dataset:  5019\n"
     ]
    }
   ],
   "source": [
    "#Seleccionem només els registres on Id_aforament no és nul. A més, aquest registre no ens interessa, donat que no podrem identificar \n",
    "#el dispositiu de mesura en no tenir número d'identificador. \n",
    "af_desc_filtered = af_desc_df[af_desc_df['Id_aforament'].notnull()]\n",
    "\n",
    "#Tornem a comprovar les llargades dels nuls codis barri amb el total del dataset\n",
    "print(\"Total nuls columnes codi_barri: \", af_desc_filtered['Codi_Barri'].isnull().sum()+af_desc_filtered['Codi_barri'].isnull().sum())\n",
    "print(\"Llargada dataset: \", len(af_desc_filtered))"
   ]
  },
  {
   "cell_type": "markdown",
   "id": "b6afc38c-7931-40f9-b158-b4221bc2f508",
   "metadata": {},
   "source": [
    "Continua havent més nuls, per tant hi ha algun registre on totes dues columnes son nul·les. A continuació, substituim els nuls de la columna Codi_Barri per el valor de la columna Codi_barri, i eliminem aquesta darrera. Després comprovem si queden valors nuls a la columna Codi_Barri"
   ]
  },
  {
   "cell_type": "code",
   "execution_count": 14,
   "id": "084a6b84-3252-4ddc-bf1c-e83ade971801",
   "metadata": {},
   "outputs": [
    {
     "name": "stdout",
     "output_type": "stream",
     "text": [
      "Total nuls columnes codi_barri:  Codi_Barri      2\n",
      "Id_aforament    0\n",
      "dtype: int64\n"
     ]
    },
    {
     "name": "stderr",
     "output_type": "stream",
     "text": [
      "C:\\Users\\Usuario\\AppData\\Local\\Temp\\ipykernel_10112\\1439522241.py:1: SettingWithCopyWarning: \n",
      "A value is trying to be set on a copy of a slice from a DataFrame.\n",
      "Try using .loc[row_indexer,col_indexer] = value instead\n",
      "\n",
      "See the caveats in the documentation: https://pandas.pydata.org/pandas-docs/stable/user_guide/indexing.html#returning-a-view-versus-a-copy\n",
      "  af_desc_filtered['Codi_Barri'] = af_desc_filtered['Codi_Barri'].fillna(af_desc_filtered['Codi_barri'])\n"
     ]
    }
   ],
   "source": [
    "af_desc_filtered['Codi_Barri'] = af_desc_filtered['Codi_Barri'].fillna(af_desc_filtered['Codi_barri'])\n",
    "af_desc_filtered = af_desc_filtered.drop('Codi_barri', axis=1)\n",
    "print(\"Total nuls columnes codi_barri: \", af_desc_filtered.isnull().sum())"
   ]
  },
  {
   "cell_type": "code",
   "execution_count": 16,
   "id": "0e152dca-f8f6-4ca2-8cb6-7168ffdf8103",
   "metadata": {},
   "outputs": [],
   "source": [
    "#Finalment, eliminem els dos registres amb valors nuls que queden, ja què suposen una pèrdua irrellevant de dades.\n",
    "af_desc_nonull = af_desc_filtered[af_desc_filtered['Codi_Barri'].notnull()]\n",
    "af_desc_nonull.to_csv(\"../Data_cleaning/selectedVars/aforaments-descriptiu.csv\", index=False)"
   ]
  },
  {
   "cell_type": "markdown",
   "id": "d16a2933-a0f2-4347-b4a0-a1e2165bb37c",
   "metadata": {},
   "source": [
    "El tractament dels diferents nuls dependrà del que extraiem de l'anàlisi dels valors nuls. Ara començarem amb la càrrega del següent arxiu"
   ]
  },
  {
   "cell_type": "code",
   "execution_count": 19,
   "id": "9e37d60b-8f43-4650-a165-4232cb948074",
   "metadata": {},
   "outputs": [
    {
     "name": "stdout",
     "output_type": "stream",
     "text": [
      "Id_aforament    2\n",
      "Mes             2\n",
      "Any             2\n",
      "Valor_IMD       2\n",
      "dtype: int64\n"
     ]
    }
   ],
   "source": [
    "#Carreguem l'arxiu a inspeccionar\n",
    "af_det_df = pd.read_csv(\"../Data_cleaning/selectedVars/aforaments-detall.csv\")\n",
    "#Busca els valors nuls\n",
    "nulls = af_det_df.isnull().sum()\n",
    "print(nulls)"
   ]
  },
  {
   "cell_type": "markdown",
   "id": "dfad941c-aaa6-43b9-b34d-48b26d81e880",
   "metadata": {},
   "source": [
    "Únicament trobem dos nuls a cada columna. Comprovem si es tracta dels mateixos registres."
   ]
  },
  {
   "cell_type": "code",
   "execution_count": 22,
   "id": "d71737c4-262f-4f0f-98fb-8d0a0b517c99",
   "metadata": {},
   "outputs": [
    {
     "data": {
      "text/html": [
       "<div>\n",
       "<style scoped>\n",
       "    .dataframe tbody tr th:only-of-type {\n",
       "        vertical-align: middle;\n",
       "    }\n",
       "\n",
       "    .dataframe tbody tr th {\n",
       "        vertical-align: top;\n",
       "    }\n",
       "\n",
       "    .dataframe thead th {\n",
       "        text-align: right;\n",
       "    }\n",
       "</style>\n",
       "<table border=\"1\" class=\"dataframe\">\n",
       "  <thead>\n",
       "    <tr style=\"text-align: right;\">\n",
       "      <th></th>\n",
       "      <th>Id_aforament</th>\n",
       "      <th>Mes</th>\n",
       "      <th>Any</th>\n",
       "      <th>Valor_IMD</th>\n",
       "    </tr>\n",
       "  </thead>\n",
       "  <tbody>\n",
       "    <tr>\n",
       "      <th>43691</th>\n",
       "      <td>NaN</td>\n",
       "      <td>NaN</td>\n",
       "      <td>NaN</td>\n",
       "      <td>NaN</td>\n",
       "    </tr>\n",
       "    <tr>\n",
       "      <th>97840</th>\n",
       "      <td>NaN</td>\n",
       "      <td>NaN</td>\n",
       "      <td>NaN</td>\n",
       "      <td>NaN</td>\n",
       "    </tr>\n",
       "  </tbody>\n",
       "</table>\n",
       "</div>"
      ],
      "text/plain": [
       "      Id_aforament  Mes  Any Valor_IMD\n",
       "43691          NaN  NaN  NaN       NaN\n",
       "97840          NaN  NaN  NaN       NaN"
      ]
     },
     "execution_count": 22,
     "metadata": {},
     "output_type": "execute_result"
    }
   ],
   "source": [
    "af_det_nulls = af_det_df[af_det_df.isnull().any(axis=1)]\n",
    "af_det_nulls"
   ]
  },
  {
   "cell_type": "markdown",
   "id": "53231bd9-2f31-401b-8f5e-b799c8092218",
   "metadata": {},
   "source": [
    "Efectivament, es tracta de dues fileres amb tots els valors nuls, i que per tant, directament eliminarem donat que no afectarà al nostre estudi."
   ]
  },
  {
   "cell_type": "code",
   "execution_count": 25,
   "id": "e805c2e8-6432-454b-b350-40cba0c0639b",
   "metadata": {},
   "outputs": [],
   "source": [
    "#Eliminem fileres amb nuls\n",
    "af_det_cl = af_det_df.dropna()\n",
    "#Substituim el csv amb aquest net\n",
    "af_det_cl.to_csv(\"../Data_cleaning/selectedVars/aforaments-detall.csv\", index=False)"
   ]
  },
  {
   "cell_type": "markdown",
   "id": "eb41b282-c2ce-481c-b433-f26b061f19f8",
   "metadata": {},
   "source": [
    "Carreguem ara el següent, 'cens-activitats-comercials'"
   ]
  },
  {
   "cell_type": "code",
   "execution_count": 28,
   "id": "446ed14e-fa6d-4add-9bd1-0550f9f7eb0c",
   "metadata": {},
   "outputs": [
    {
     "name": "stdout",
     "output_type": "stream",
     "text": [
      "Codi_Barri              50000\n",
      "Nom_Barri               50000\n",
      "CBARRI                 100007\n",
      "NBARRI                 100007\n",
      "Data_Revisio           100050\n",
      "DATA                   100000\n",
      "Codi_Grup_Activitat    100000\n",
      "Nom_Grup_Activitat     100000\n",
      "dtype: int64\n"
     ]
    },
    {
     "name": "stderr",
     "output_type": "stream",
     "text": [
      "C:\\Users\\Usuario\\AppData\\Local\\Temp\\ipykernel_10112\\1529090729.py:2: DtypeWarning: Columns (1,3,5,7) have mixed types. Specify dtype option on import or set low_memory=False.\n",
      "  cac_df = pd.read_csv(\"../Data_cleaning/selectedVars/cens-activitats-comercials.csv\")\n"
     ]
    }
   ],
   "source": [
    "#Carreguem l'arxiu a inspeccionar\n",
    "cac_df = pd.read_csv(\"../Data_cleaning/selectedVars/cens-activitats-comercials.csv\")\n",
    "#Busca els valors nuls\n",
    "nulls = cac_df.isnull().sum()\n",
    "print(nulls)"
   ]
  },
  {
   "cell_type": "markdown",
   "id": "78e90a2e-a295-4426-9bac-0446d93677bb",
   "metadata": {},
   "source": [
    "En primer lloc, existeix un altre dataset amb els codis de barri i noms de barri. A partir de les columnes Nom_Barri i NBARRI podem assignar gran part dels Codi_Barri. El carreguem\n"
   ]
  },
  {
   "cell_type": "code",
   "execution_count": 31,
   "id": "ccc0df55-dd5a-4aef-ae00-65d52040340e",
   "metadata": {},
   "outputs": [
    {
     "name": "stdout",
     "output_type": "stream",
     "text": [
      "Codi_Barri              10836\n",
      "Nom_Barri               50000\n",
      "CBARRI                 100007\n",
      "NBARRI                 100007\n",
      "Data_Revisio           100050\n",
      "DATA                   100000\n",
      "Codi_Grup_Activitat    100000\n",
      "Nom_Grup_Activitat     100000\n",
      "dtype: int64\n"
     ]
    }
   ],
   "source": [
    "barris_df = pd.read_csv(\"../Data_cleaning/selectedVars/unitats-administratives-barris.csv\")\n",
    "#Creem un diccionari amb els codis de barri i noms de barri\n",
    "code_barris = dict(zip(barris_df['nom_barri'], barris_df['codi_barri']))\n",
    "#Assignem aquells que sigui el Codi_Barri nul a partir de la columna CBARRI\n",
    "cac_df.loc[cac_df['Codi_Barri'].isnull(), 'Codi_Barri'] = cac_df['Nom_Barri'].map(code_barris)\n",
    "#Fem el mateix amb la columna NBARRI\n",
    "cac_df.loc[cac_df['Codi_Barri'].isnull(), 'Codi_Barri'] = cac_df['NBARRI'].map(code_barris)\n",
    "print(cac_df.isnull().sum())"
   ]
  },
  {
   "cell_type": "markdown",
   "id": "00917593-400b-46c1-8b01-3ba8fb6ba1a1",
   "metadata": {},
   "source": [
    "Hem reduit significativament el nombre de registres sense codi de barri. Mirem ara d'assignar als nuls Codi_Barri, la columna CBARRI que pot indicar el mateix"
   ]
  },
  {
   "cell_type": "code",
   "execution_count": 34,
   "id": "dd28e577-5cda-4c98-bdd5-f36aa5e4575e",
   "metadata": {},
   "outputs": [
    {
     "name": "stdout",
     "output_type": "stream",
     "text": [
      "Codi_Barri                  7\n",
      "Nom_Barri               50000\n",
      "CBARRI                 100007\n",
      "NBARRI                 100007\n",
      "Data_Revisio           100050\n",
      "DATA                   100000\n",
      "Codi_Grup_Activitat    100000\n",
      "Nom_Grup_Activitat     100000\n",
      "dtype: int64\n"
     ]
    }
   ],
   "source": [
    "cac_df['Codi_Barri'] = cac_df['Codi_Barri'].fillna(cac_df['CBARRI'])\n",
    "print(cac_df.isnull().sum())"
   ]
  },
  {
   "cell_type": "markdown",
   "id": "d90dbd95-8f62-421f-a68b-23e28d9e6ebb",
   "metadata": {},
   "source": [
    "Ara mirarem de fer el mateix amb el camp Data_Revisio, assignant-li el camp DATA"
   ]
  },
  {
   "cell_type": "code",
   "execution_count": 37,
   "id": "fa2df802-6534-41bf-a7af-bb566947a1e3",
   "metadata": {},
   "outputs": [
    {
     "name": "stdout",
     "output_type": "stream",
     "text": [
      "Codi_Barri                  7\n",
      "Nom_Barri               50000\n",
      "CBARRI                 100007\n",
      "NBARRI                 100007\n",
      "Data_Revisio            50050\n",
      "DATA                   100000\n",
      "Codi_Grup_Activitat    100000\n",
      "Nom_Grup_Activitat     100000\n",
      "dtype: int64\n"
     ]
    }
   ],
   "source": [
    "cac_df['Data_Revisio'] = cac_df['Data_Revisio'].fillna(cac_df['DATA'])\n",
    "print(cac_df.isnull().sum())"
   ]
  },
  {
   "cell_type": "markdown",
   "id": "d5aa0454-ae22-4b5e-b1d3-21bb729c672f",
   "metadata": {},
   "source": [
    "Tot i que encara el nombre de valors nuls és molt elevat (1/3 part del dataset no té data de revisió informada), aquests registres no ens interessen ja què no els podem assignar a cap any. Els eliminem, ja què a més hem de tenir en compte que aquest dataset el combinarem amb un altre amb informació similar d'altres anys."
   ]
  },
  {
   "cell_type": "code",
   "execution_count": 40,
   "id": "f85c7e53-7433-4361-ae8f-5f9f9eeffff9",
   "metadata": {},
   "outputs": [
    {
     "name": "stdout",
     "output_type": "stream",
     "text": [
      "El percentatge de registres sense identificar la data sobre el total és del  25.025 %\n"
     ]
    }
   ],
   "source": [
    "cac_df2 = pd.read_csv(\"../Data_cleaning/selectedVars/cens-locals-planta-baixa-act-economica.csv\")\n",
    "#Calculem quin seria el percentatge respecte el total dels dos datasets si es combinessin\n",
    "perc_nuls = ((cac_df['Data_Revisio'].isnull().sum())/(len(cac_df)+len(cac_df2)))*100\n",
    "print(\"El percentatge de registres sense identificar la data sobre el total és del \", perc_nuls, \"%\")"
   ]
  },
  {
   "cell_type": "markdown",
   "id": "25368738-720b-4d66-871a-b69b05172c32",
   "metadata": {},
   "source": [
    "El percentatge continua essent força elevat, però si mirem la longitud del dataset, veiem que hi ha suficients registres per analitzar eliminant els que no tenen barri."
   ]
  },
  {
   "cell_type": "code",
   "execution_count": 43,
   "id": "662c3ff3-8ee0-4fd4-9864-e1b8a5f846f2",
   "metadata": {},
   "outputs": [
    {
     "name": "stdout",
     "output_type": "stream",
     "text": [
      "149950\n"
     ]
    }
   ],
   "source": [
    "print(len(cac_df)+len(cac_df2)-cac_df['Data_Revisio'].isnull().sum())"
   ]
  },
  {
   "cell_type": "code",
   "execution_count": 45,
   "id": "296dbe9b-dce3-419b-b265-697f06ddd71c",
   "metadata": {},
   "outputs": [
    {
     "data": {
      "text/plain": [
       "99950"
      ]
     },
     "execution_count": 45,
     "metadata": {},
     "output_type": "execute_result"
    }
   ],
   "source": [
    "cac_df = cac_df[cac_df['Data_Revisio'].notnull()]\n",
    "cac_df = cac_df[cac_df['Codi_Barri'].notnull()]\n",
    "len(cac_df)"
   ]
  },
  {
   "cell_type": "markdown",
   "id": "20e9814e-9613-402f-8999-9f618e37e1a1",
   "metadata": {},
   "source": [
    "Veiem que entre els dos datasets continuem tenint prop de 100000 registres, que són més que suficients. Pel que fa als nuls en la columna 'Codi_Grup_Activitat' no els tractarem i els deixarem tal qual. A l'hora de calcular les variables necessàries, els tractarem com si fossin activitats no típiques dels processos de gentrificació/turistificació."
   ]
  },
  {
   "cell_type": "code",
   "execution_count": 48,
   "id": "5cf42450-e522-488a-bb4a-2f091295286b",
   "metadata": {},
   "outputs": [],
   "source": [
    "cac_df.to_csv(\"../Data_cleaning/selectedVars/cens-activitats-comercials.csv\", index=False)"
   ]
  },
  {
   "cell_type": "markdown",
   "id": "c7ab6fba-1cd8-40cf-b689-054aa46b1af7",
   "metadata": {},
   "source": [
    "Carreguem el següent dataset, 'culturailleure-bibliotequesimuseus'"
   ]
  },
  {
   "cell_type": "code",
   "execution_count": 51,
   "id": "37dc3ba0-9f09-4e2c-bd64-fe0b2310f39c",
   "metadata": {},
   "outputs": [
    {
     "name": "stdout",
     "output_type": "stream",
     "text": [
      "addresses_neighborhood_id      3\n",
      "addresses_neighborhood_name    3\n",
      "secondary_filters_name         0\n",
      "created                        0\n",
      "modified                       0\n",
      "dtype: int64\n"
     ]
    }
   ],
   "source": [
    "#Carreguem l'arxiu a inspeccionar\n",
    "bim_df = pd.read_csv(\"../Data_cleaning/selectedVars/culturailleure-bibliotequesimuseus.csv\")\n",
    "#Busca els valors nuls\n",
    "nulls = bim_df.isnull().sum()\n",
    "print(nulls)"
   ]
  },
  {
   "cell_type": "code",
   "execution_count": 53,
   "id": "1682312b-5137-48ae-8132-53554621b549",
   "metadata": {},
   "outputs": [
    {
     "name": "stdout",
     "output_type": "stream",
     "text": [
      "El percentatge de nuls és de  0.6637168141592921 %\n"
     ]
    }
   ],
   "source": [
    "#Calculem percentatge de nuls\n",
    "perc_nuls = (bim_df['addresses_neighborhood_id'].isnull().sum()/len(bim_df))*100\n",
    "print(\"El percentatge de nuls és de \", perc_nuls, \"%\")"
   ]
  },
  {
   "cell_type": "markdown",
   "id": "17de0ada-8bb9-4b5d-bccb-54f21a6acfe6",
   "metadata": {},
   "source": [
    "Novament el nombre de nuls és mínim respecte el total de registres. Per tant, eliminem els registres nuls i guardem el csv net"
   ]
  },
  {
   "cell_type": "code",
   "execution_count": 56,
   "id": "aa2bb8d0-9a6c-4cb9-b90d-91493ee3ba3f",
   "metadata": {},
   "outputs": [],
   "source": [
    "bim_clean = bim_df.dropna()\n",
    "bim_clean.to_csv(\"../Data_cleaning/selectedVars/culturailleure-bibliotequesimuseus.csv\", index=False)"
   ]
  },
  {
   "cell_type": "markdown",
   "id": "d56b4b04-3168-4750-afdf-7b857685be08",
   "metadata": {},
   "source": [
    "Els següents tres datasets són similars, donat que estan relacionats amb l'assistència a esdeveniments culturals. Carreguem els tres."
   ]
  },
  {
   "cell_type": "code",
   "execution_count": 59,
   "id": "80f8769f-4983-4548-b3d3-fd0057725024",
   "metadata": {},
   "outputs": [],
   "source": [
    "#Carreguem l'arxiu a inspeccionar\n",
    "dae_df = pd.read_csv(\"../Data_cleaning/selectedVars/dades-arts-esceniques.csv\")\n",
    "daf_df = pd.read_csv(\"../Data_cleaning/selectedVars/dades-festivals.csv\")\n",
    "dme_df = pd.read_csv(\"../Data_cleaning/selectedVars/dades-museus-exposicions.csv\")"
   ]
  },
  {
   "cell_type": "code",
   "execution_count": 61,
   "id": "354ccf12-420a-4357-bb39-1fb22bebf6c6",
   "metadata": {},
   "outputs": [
    {
     "name": "stdout",
     "output_type": "stream",
     "text": [
      "Nulls dades arts escèniques:  Codi_Barri           204\n",
      "Nom_Barri            204\n",
      "Any                    0\n",
      "Tipus_Equipament    3143\n",
      "Indicador              0\n",
      "Valor                  0\n",
      "dtype: int64\n",
      "Nulls dades festivals:  Espai                           1469\n",
      "Any                                0\n",
      "Assistents_fora_de_Barcelona    2473\n",
      "Assistents_a_Barcelona          1981\n",
      "Assistents                      1277\n",
      "dtype: int64\n",
      "Nulls dades museus:  Codi_Barri          52\n",
      "Nom_Barri           52\n",
      "Any                  0\n",
      "TipusEquipament    313\n",
      "Indicador            0\n",
      "Valor                0\n",
      "dtype: int64\n"
     ]
    }
   ],
   "source": [
    "#Busca els valors nuls en cada dataset\n",
    "nulls_dae = dae_df.isnull().sum()\n",
    "nulls_daf = daf_df.isnull().sum()\n",
    "nulls_dme = dme_df.isnull().sum()\n",
    "print(\"Nulls dades arts escèniques: \", nulls_dae)\n",
    "print(\"Nulls dades festivals: \", nulls_daf)\n",
    "print(\"Nulls dades museus: \", nulls_dme)"
   ]
  },
  {
   "cell_type": "markdown",
   "id": "9a7a793d-4740-44b2-a01e-e308d227e95d",
   "metadata": {},
   "source": [
    "Hi ha dos datasets amb un nombre baix de nuls en codi barri, i que coincideix amb nombre amb nom_barri. Si fossin els mateixos registres, els eliminarem, ja que no podrem identificar-los"
   ]
  },
  {
   "cell_type": "code",
   "execution_count": 64,
   "id": "d24e1c49-1aec-4561-ae32-c777f76fbc4c",
   "metadata": {},
   "outputs": [
    {
     "name": "stdout",
     "output_type": "stream",
     "text": [
      "Codi_Barri          204\n",
      "Nom_Barri           204\n",
      "Any                   0\n",
      "Tipus_Equipament    189\n",
      "Indicador             0\n",
      "Valor                 0\n",
      "dtype: int64 total registres:  204\n",
      "Codi_Barri         52\n",
      "Nom_Barri          52\n",
      "Any                 0\n",
      "TipusEquipament     0\n",
      "Indicador           0\n",
      "Valor               0\n",
      "dtype: int64 total registres:  52\n"
     ]
    }
   ],
   "source": [
    "nulls_arts = dae_df[dae_df['Codi_Barri'].isnull()]\n",
    "nulls_museus = dme_df[dme_df['Codi_Barri'].isnull()]\n",
    "print(nulls_arts.isnull().sum(), \"total registres: \", len(nulls_arts))\n",
    "print(nulls_museus.isnull().sum(), \"total registres: \", len(nulls_museus))"
   ]
  },
  {
   "cell_type": "markdown",
   "id": "65525e05-8088-4530-8aa7-e994fab3b78c",
   "metadata": {},
   "source": [
    "Podem eliminar aquests registres."
   ]
  },
  {
   "cell_type": "code",
   "execution_count": 67,
   "id": "0a8b7191-966a-4d95-9fbf-8dd71d702359",
   "metadata": {},
   "outputs": [],
   "source": [
    "dae_df = dae_df[dae_df['Codi_Barri'].notnull()]\n",
    "dme_df = dme_df[dme_df['Codi_Barri'].notnull()]"
   ]
  },
  {
   "cell_type": "code",
   "execution_count": 69,
   "id": "f757a4c9-1ef1-4eeb-8b85-c9bcb63815ab",
   "metadata": {},
   "outputs": [
    {
     "name": "stdout",
     "output_type": "stream",
     "text": [
      "Valors únics 'Tipus_Equipament' arts escèniques:  [\"Sales d'arts escèniques\" 'Cinemes' 'Fàbriques de Creació'\n",
      " 'Grans auditoris' nan 'Museus i col·leccions']\n",
      "Valors únics 'TipusEquipament' museus:  [nan 'Arxius' \"Espais d'interès patrimonial\" \"Centres d'exposicions\"\n",
      " 'Museus i col·leccions' \"Espais d'interès arquitectònic\"\n",
      " \"Sales d'arts escèniques\"]\n"
     ]
    }
   ],
   "source": [
    "#Mirem els valors únics de les columnes amb nulls en aquests dos datasets\n",
    "print(\"Valors únics 'Tipus_Equipament' arts escèniques: \", dae_df['Tipus_Equipament'].unique())\n",
    "print(\"Valors únics 'TipusEquipament' museus: \", dme_df['TipusEquipament'].unique())"
   ]
  },
  {
   "cell_type": "markdown",
   "id": "f8490497-102a-4f37-b68e-b8bc14a9a51b",
   "metadata": {},
   "source": [
    "Donat que aquesta columna no ens dona cap informació rellevant pel tractament de les dades, li assignarem als valors nuls el valor 'Arts escèniques' en el cas del primer dataset, i 'Museus i exposicions' en el cas del segon. Guardem aquests dos nous csv substituint els originals."
   ]
  },
  {
   "cell_type": "code",
   "execution_count": 72,
   "id": "ddd73e32-440d-4b68-b0e0-7810c5244f21",
   "metadata": {},
   "outputs": [],
   "source": [
    "dae_df['Tipus_Equipament'] = dae_df['Tipus_Equipament'].fillna(\"Arts escèniques\")\n",
    "dme_df['TipusEquipament'] = dme_df['TipusEquipament'].fillna(\"Museus i exposicions\")\n",
    "dae_df.to_csv(\"../Data_cleaning/selectedVars/dades-arts-esceniques.csv\", index=False)\n",
    "dme_df.to_csv(\"../Data_cleaning/selectedVars/dades-museus-exposicions.csv\", index=False)"
   ]
  },
  {
   "cell_type": "markdown",
   "id": "5306b0b5-7f86-4f76-b8de-ea47bdaaa5a0",
   "metadata": {},
   "source": [
    "En el cas de dades a festivals, primer mirem els valors únics de la columna 'Espai'"
   ]
  },
  {
   "cell_type": "code",
   "execution_count": 75,
   "id": "143ee3bd-5bea-4b9b-be9a-d603c8303be1",
   "metadata": {},
   "outputs": [
    {
     "data": {
      "text/plain": [
       "array(['Diversos espais de la ciutat', 'SAT! Sant Andreu Teatre',\n",
       "       'Sala Heliogàbal i Casinet d¿Hostafrancs',\n",
       "       'Fira de Barcelona Gran Via',\n",
       "       'Edifici Històric de la Universitat de Barcelona',\n",
       "       'Barri de Poblenou', 'Ateneu Popular 9 Barris',\n",
       "       'Xarxa de centres cívics', \"L'Auditori\",\n",
       "       'Antiga Fàbrica Estrella Damm', 'Poble Espanyol',\n",
       "       'Institut Francés de Barcelona', 'Disseny Hub Barcelona',\n",
       "       'Centre de Cultura Contemporània de Barcelona. CCCB',\n",
       "       'Fira de Barcelona Montjuïc', 'Parc del Fòrum',\n",
       "       'Parc de les Glòries', 'Districte de Ciutat Vella',\n",
       "       'Fabra i Coats Fàbrica de creació', 'Castell de Montjuïc',\n",
       "       'La Pedrera', 'Fossat del Mercat de Sant Antoni',\n",
       "       'Poble Espanyol ', 'Districte de les Corts',\n",
       "       'Moll de la Fusta de Barcelona', 'Jardins del Palau de Pedralbes',\n",
       "       \"Districte de l'Eixample\", 'Centre Cultural la Farinera',\n",
       "       'Palau Güell', 'Museu Can Framis', 'Barri Gòtic',\n",
       "       'Pavelló Mies van der Rohe', 'CC Sant Agustí',\n",
       "       'Platja de Sant Sebastià (Barceloneta)', 'Horts de Can Soler',\n",
       "       'Districte de Nou Barris', 'La terrassa de Diagonal Mar',\n",
       "       'CC del Besòs i el Maresme',\n",
       "       'Finca Pedro Pons de la Universitat de Barcelona',\n",
       "       'Barri de la Guineueta', 'Jardins de la Sedeta',\n",
       "       'Districte de Sant Andreu', 'Barri del Besòs i el Maresme',\n",
       "       'Passeig de Gràcia', 'Barri de Gràcia', 'Fundació Joan Miró',\n",
       "       'Lluïsos de Gràcia',\n",
       "       'Diversos espais de la muntanya de Collserola', 'Pla de Montbau',\n",
       "       'MNAC', \"Biblioteques d'Horta Guinardó\", 'Teatre La Puntual',\n",
       "       'Parc de Montjuïc', nan, 'Filmoteca de Catalunya',\n",
       "       'Centre LGTBI de Barcelona', 'Sala Beckett',\n",
       "       'Cinemes Aribau Multicines',\n",
       "       'Fundació Joan Brossa - Centre de les Arts Lliures',\n",
       "       'Barri del Raval',\n",
       "       'Facultat de Filosofia de la Universitat de Barcelona',\n",
       "       'Antic Teatre', 'CC Cotxeres de Sants', 'Paral·lel 62',\n",
       "       'Cinema Texas', 'Antiga Fabrica ENMASA Mercedes-Benz',\n",
       "       'Cinemes Verdi', 'Pl Catalunya',\n",
       "       'Fabra i Coats Fàbrica de Creació', 'Platja del Fòrum',\n",
       "       'Fira Barcelona Montjuïc', 'Cinemes Girona',\n",
       "       'Plaça Ceràmica Vicens i Jardins Bacardí',\n",
       "       'Antiga Fàbrica Estrella Damm, Westfield Glòries i el Poble Espanyol',\n",
       "       \"Diversos espais de la ciutat i de l'Àrea Metropolitana\",\n",
       "       'Jardins del Pou de la Figuera',\n",
       "       'Paranimf de la Universitat de Barcelona',\n",
       "       'Centre Cultural La Farinera del Clot',\n",
       "       'Centre Cívic Pati Llimona', 'Diversos espais del Poble Nou',\n",
       "       'Centre Cívic La Sedeta', 'Diversos espais del barri del Raval',\n",
       "       'Centre Cívic Besòs', 'Cinemes Aribau ', 'Cine Nunes',\n",
       "       'Conservatori Municipal de Música de Barcelona',\n",
       "       'Jardins de Pedralbes', 'Moll de la Fusta', 'MUHBA Oliva Artés',\n",
       "       'Fira Barcelona Gran Via', 'Barris Besòs i Maresme',\n",
       "       'Fàbrica Lehmann', 'La Masia de la Guineueta', 'Palau Robert',\n",
       "       'Seu del Districte de Nou Barris', 'Terrat del Palau Güell',\n",
       "       'Biblioteca Collserola ¿ Josep Miracle ',\n",
       "       'Diversos espais del Districte de Sant Martí', 'Hotel Almanac',\n",
       "       'Teatre dels Lluïsos de Gràcia', 'Centre Cívic Cotxeres de Sants',\n",
       "       'Jardins Elisava',\n",
       "       'CCCB, Pl. de Joan Coromines, Biblioteca Nou Barris, Biblioteca Poblenou-Manuel Arranz',\n",
       "       'Fabra i Coats', 'Centre Cultura Contemporània Barcelona',\n",
       "       'Arts Santa Mònica', '29 centres cívics i culturals',\n",
       "       'Biblioteca de Catalunya',\n",
       "       \"33 galeries d'art a Barcelona, L'Hospitalet, Sitges i Santa Margarida i els Monjos, i activitats especials en espais col·laboradors a Barcelona.\",\n",
       "       'Fira de Barcelona',\n",
       "       \"Museu Olímpic i de l'Esport Joan Antoni Samaranch\", 'Online',\n",
       "       'Sala Almo2bar', 'CCCB', 'Filmoteca de Catalunya i Cinema Maldà',\n",
       "       'Plaça del Nord / LLuïsos de Gràcia', 'CCCB i Cinemes Aribau',\n",
       "       'CAT! Centre Artesà Tradicionarius', 'Finca Pedro Pons',\n",
       "       'Paranimf Universitat de Barcelona', 'CC Pati Llimona',\n",
       "       'Centre Cívic Can Felipa', 'Espais Joves de la ciutat', 'SAT!',\n",
       "       'Pati de la Seu del Districte de Nou Barris', 'Sala Barts',\n",
       "       'Mercat de les Flors, SAT! Sant Andreu Teatre i Fàbrica de Creació Fabra i Coats',\n",
       "       'Centre Artesà Tradicionàrius', 'Cinemes Aribau', 'CaixaForum',\n",
       "       'Església de Santa Maria del Pi', 'Auditori Eduard Toldrá - CMMB',\n",
       "       'Teatre la Puntual', 'Plaça de les Dones del 36, Gràcia',\n",
       "       'El Castell de Montjuïc',\n",
       "       \"Centres cívics, diversos interiors d'illa, plaça Fort Pienc i Mercat de Sant Antoni\",\n",
       "       \"Passeig de Gràcia - Estand de l'Exposició a la mateixa Fira\",\n",
       "       'Museu del Disseny', 'Fabrar i Coats', 'Auditori Meier del MACBA',\n",
       "       'Centre cívic Cotxeres de Sants',\n",
       "       'Palau de la Música, Jamboree Jazz club i Tarantos',\n",
       "       'Espai Jove les Basses',\n",
       "       'CCCB i biblioteques Poblenou-Manuel Arranz i Nou Barris',\n",
       "       'Filmoteca de Catalunya i La Panafricana',\n",
       "       'Pl. Sant Felip Neri, CC Trinitat Vella i Cinemes Girona.',\n",
       "       'Institut Francès de Barcelona', 'Cinema Maldà', 'Utopia 126',\n",
       "       \"En la xarxa de centres cívics i a l'estiu llocs exteriors propers als centres.\",\n",
       "       'Centre LGBTI de Barcelona', 'Teatre Tantarantana', 'Can Felipa',\n",
       "       'Fossat de Santa Eulàlia - Castell de Montjuïc', 'Anella Olimpica',\n",
       "       'Fira de Barcelona. Pevelló Italià', 'CCCB i CC Pati Llimona',\n",
       "       'Diversos espais de la muntanya de Montjuïc',\n",
       "       'A la Biblioteca Bonnemaison i al CC Convent de Sant Agustí',\n",
       "       'Centre Cívic Besos i Online',\n",
       "       'Diversos espais de la ciutat i Online',\n",
       "       'Cinemes Girona, Zumzeig i Filmoteca de Catalunya',\n",
       "       'Cinemes Girona i online',\n",
       "       '21 centres cívics de la ciutat i Online',\n",
       "       '29 centres cívics de la ciutat',\n",
       "       'Biblioteca de Catalunya i Online',\n",
       "       'Centre Cultural la Farinera del Clot',\n",
       "       'Online i Filmoteca de Catalunya', 'Biblioteques de Barcelona',\n",
       "       'CEM La Mar Bella',\n",
       "       'Carrer Benavent / Plaza de las Ceramicas Vicens',\n",
       "       'Lluïsos de Gràcia i Online', 'CCCB i Online',\n",
       "       'Jardins Edifici Històric i Online',\n",
       "       'Paranimf Edifici Històric UB',\n",
       "       'Centre Cultural la Farinera del Clot ', 'Ca La Dona i online',\n",
       "       'Espais Joves (EJ Boca Nord, EJ La Bàscula, EJ Garcilaso) i Online',\n",
       "       'CaixaForum i Online',\n",
       "       'Espais Joves: Espai Jove La Fontana i Espai Jove Les Basses i Online',\n",
       "       'Fabra i Coats: Fàbrica de Creació', 'SAT! sant Andreu Teatre',\n",
       "       'Pati de la Seu del Districte de Nou Barris i Online',\n",
       "       'Jardins de Joan Maragall i Park Güell', 'La Puntual',\n",
       "       'Poble Espanyol de Barcelona', 'CAT Centre Artesà Tradicionàrius',\n",
       "       'Cinemes Verdi i online', 'Jardins Pedralbes', 'Fora de Barcelona',\n",
       "       'Fabra i Coats: Fàbrica de Creació I Online',\n",
       "       \"Diversos centres cívics de l'Eixample\",\n",
       "       'Diversos espais de la ciutat i online',\n",
       "       'Reials Drassanes de Barcelona', 'Passeig de Gràcia de Barcelona',\n",
       "       'Antic Teatre (sala)', 'Casal de Joves Guineueta',\n",
       "       'Artesania Catalunya',\n",
       "       'Pati de la seu del districte de Nou Barris',\n",
       "       'Cinemes Girona i Online', 'Auditori MACBA',\n",
       "       \"Espai de carrer, al costat del Centre Civic. L'espai entre els edificis del CC i el continuo. Online\",\n",
       "       'Fabra i Coats, Fàbrica de Creació i Online',\n",
       "       'Diversos espais del Poblenou',\n",
       "       \"Museu d'Historia de Catalunya i Online\",\n",
       "       'Espai Jove Les Basses i auditori FNAC L¿Illa',\n",
       "       'Centre Cultural Casa Elizalde', 'Filmoteca de Catalunya i Online',\n",
       "       'Teatre del Raval', 'Centre Cívic Convent de Sant Agustí',\n",
       "       'Cinemes Girona i Lleialtat Santsenca',\n",
       "       'Centre  Cultural La Farinera del Clot  ',\n",
       "       'l¿Antiga Fàbrica Estrella Damm, Cinemes Girona i online',\n",
       "       'Institut français-Barcelona, Filmoteca i Online',\n",
       "       'Centre LGTBI Barcelona i online',\n",
       "       'Teatre Tantarantana, Escenari Joan Brossa',\n",
       "       'Sala Boveda i Sala Sant Jordi Club', 'SIDECAR factory club',\n",
       "       'Moll de la Fusta i online', 'Parc de la Guineueta',\n",
       "       'Plaça Monumental ', 'PLAYGROUND. DISTRICTE DE SANT MARTÍ',\n",
       "       'Espacio 100-SIMON i Online',\n",
       "       'Cinemes Girona i Euskal Etxea de Barcelona', 'Centre Cívic Besos',\n",
       "       'Sala Apolo', 'CaixaForum Barcelona', 'Disseny HUB Barcelona',\n",
       "       'Cinemes Girona ', \"Centre d'art contemporani Piramidón\",\n",
       "       'Palau de la Música Catalana', 'Museus de la ciutat',\n",
       "       '21 centres cívics de la ciutat', 'Diverses galeries de la ciutat',\n",
       "       'Club Natació Barcelona', 'Fira de Barcelona (Montjuïc)',\n",
       "       'Casc Antic de Barcelona',\n",
       "       'Filmoteca de Catalunya, Arts Santa Mònica',\n",
       "       'Platja de Sant Sebastià-Barceloneta', 'Carrer Benavent',\n",
       "       'Sant Pau Recite Modernista', 'NAU BOSTIK', 'Aribau Cinema i CCCB',\n",
       "       'Museu Marítim de Barcelona', 'Diversos espais de la ciutat ',\n",
       "       'Jardins Edifici Històric UB',\n",
       "       'Centre Cultural la Farinera del Clot i Parc de les Glòries',\n",
       "       'Ca La Dona', 'MACBA', 'Sala Barts i Museu Marítim de Barcelona',\n",
       "       'Pati Llimona i Plaça Sant Just',\n",
       "       'Església de Santa Maria del Pi i Palau de la Música Catalana',\n",
       "       'Teatre Regina', 'Jardins del Palau Reial de Pedralbes',\n",
       "       'Plaça de la Vila de Gràcia i Jamboree', 'Castell de Montjuïc ',\n",
       "       'Carrer Alfons el Magnànim', 'Institut français-Barcelone',\n",
       "       'Centres Cívics de Barcelona i Mercat de les Flors',\n",
       "       'Mercat de les Flors', 'Aribau Multicines', 'Antic Teatre ',\n",
       "       'Fabra i Coats - Fàbrica de Creació',\n",
       "       'Ateneu del Raval i Auditori Meier del MACBA ',\n",
       "       'Plaça Salvador Seguí', 'Fabra i Coats, Fàbrica de Creació',\n",
       "       'Lluïsos de Gràcia i diversos espais de la ciutat',\n",
       "       'Església de Sant Pere de les Puel·les', \"Jardins d'Elissava\",\n",
       "       'Espai Jove Les Basses i auditori FNAC L?Illa',\n",
       "       'CCCB, MACBA, Pl. de Joan Coromines',\n",
       "       'Centre Cultural la Farinera del Clot i Centre Cívic Can Felipa',\n",
       "       'Casa de les Punxes', 'Arts Santa Monica, MACBA',\n",
       "       \"Claustre de l'Oratori de Sant Felip Neri\",\n",
       "       'Institut français-Barcelona i Cinemes Texas',\n",
       "       'Centre LGTBI Barcelona', 'Teatre Tantarantana, Teatre CCCB',\n",
       "       'Passeig Colom de Barcelona', 'Zumzeig Cinema',\n",
       "       'Fira Barcelona Montjüic', 'Plaça dels Àngels',\n",
       "       'Centre Cultural la Farinera del Clot i diversos espais de la ciutat',\n",
       "       'Jardins de les tres xemeneies', 'Avinguda de la Catedral',\n",
       "       \"Fira de Barcelona (Montjuïc i Gran Via L'Hospitalet)\",\n",
       "       'Fórum i Plaça Monumental ', 'Cinemes Girona i CosmoCaixa',\n",
       "       'Luthier Dansa', 'CCCB i altres espais de la ciutat',\n",
       "       'Teatre CCCB', 'La Seca Espai Brossa', 'La [2]', 'Transforma BCN',\n",
       "       'Arts de Santa Mònica', 'Barcelona Culture World, Poble Nou',\n",
       "       'Platja Port Fòrum', 'El Molino',\n",
       "       'Sala Moragues del Born Centre Cultural',\n",
       "       'Museu Marítim de Barcelona i Sala Apolo',\n",
       "       'Museu Olímpic i Sala Àmbit Cultural Corte Inglés',\n",
       "       \"Poble Espanyol i Centre d'Arts Santa Mònica\", 'Cinemes Boliche',\n",
       "       'Platja de Sant Sebastià', 'Mercat de les Flors i Metro',\n",
       "       'Esglesia del Pi de Barcelona', 'Edifici Disseny Hub Barcelona',\n",
       "       'Ca la Dona', 'plaça Rovira i Trias', 'Parc del Besos',\n",
       "       'Centre Cívic Can Basté', 'SAT',\n",
       "       'Institut Francès i pl. Sant Felip Neri',\n",
       "       'Patí de la Seu del districte de Nou Barris',\n",
       "       \"Centre Artesà Tradicionàrius i l'Auditori de Barcelona\",\n",
       "       'Sala Jamboree', 'Cinemes Girona i Restaurant Entresuelo',\n",
       "       'Filmoteca de Catalunya i Casa Amèrica Catalunya',\n",
       "       'Teatre Museu. Rei de la Màgia', 'El Mercat de les Flors i Graner',\n",
       "       'Cinemes Aribau Club', 'Arts Santa Mònica i Antic Teatre',\n",
       "       'Estació de plaça Universitat',\n",
       "       'CCCB, Institut Francès i Filmoteca de Catalunya',\n",
       "       'Sant Pau Recinte Modernista i ESMUC',\n",
       "       'Centre Cultural Euskal Etxea i SAT', 'Diversos espais',\n",
       "       'Lluïsos de Gràcia i Espai Jove la Fontana',\n",
       "       'Centre Cívics Cotxeres Sants', 'Hotel Silken Diagonal Barcelona',\n",
       "       'Espais Jove les Bases', 'Casa Elizalde', 'MACBA, CCCB',\n",
       "       'Cines Verdi i Verdi Park',\n",
       "       'Casa Amèrica Catalunya i Cinemes Girona',\n",
       "       'Institut Francès de Barcelona i CCCB',\n",
       "       'Centre Cívic Cotxeres de Borrell', 'Convent de Sant Agustí i TMB',\n",
       "       'nunArt Guinardó', 'DHUB', 'La Virreina Centre de la Imatge',\n",
       "       'Nau Ivanow', 'Jardins Joan Brossa', 'Rambla del Raval',\n",
       "       'La Farinera', 'Esplanada Catedral', 'Parc Central de Nou Barris',\n",
       "       'Ateneu Popular 9Barris',\n",
       "       \"Fira de Montjuïc i Fira Gran Via de l'Hospitalet\",\n",
       "       'CCCB i Sala Conserves', 'Sala Apolo i La (2)'], dtype=object)"
      ]
     },
     "execution_count": 75,
     "metadata": {},
     "output_type": "execute_result"
    }
   ],
   "source": [
    "daf_df['Espai'].unique()"
   ]
  },
  {
   "cell_type": "markdown",
   "id": "9bbcd174-3fda-4823-b394-678557e968c6",
   "metadata": {},
   "source": [
    "En aquest cas, la columna 'Espai' ens indica el lloc on es produeix l'event, i a partir del dataset 'equipaments-culturals.icub' podrem identificar el barri on es produeix. Per tant, en aquest cas els valors nuls no ens aporten cap informació i eliminarem els registres."
   ]
  },
  {
   "cell_type": "code",
   "execution_count": 78,
   "id": "0c1aa967-78f4-40d0-aee5-07dc8db82256",
   "metadata": {},
   "outputs": [],
   "source": [
    "daf_df = daf_df[daf_df['Espai'].notnull()]"
   ]
  },
  {
   "cell_type": "markdown",
   "id": "e681f55a-886f-4d45-8f2d-7745797a6428",
   "metadata": {},
   "source": [
    "Pel que fa a les altres columnes que presenten nuls, fan referència al nombre d'assistents de fora de Barcelona, de Barcelona i el total. En aquest cas únicament ens interessa la columna d'Assistents totals. Mirem si a partir de les altres dues es poden omplir nuls sumant assistents de fora de Barcelona i de Barcelona."
   ]
  },
  {
   "cell_type": "code",
   "execution_count": 81,
   "id": "2eaa05b1-84c4-4c40-81c1-ffb7f486dd35",
   "metadata": {},
   "outputs": [
    {
     "name": "stdout",
     "output_type": "stream",
     "text": [
      "Espai                              0\n",
      "Any                                0\n",
      "Assistents_fora_de_Barcelona    1006\n",
      "Assistents_a_Barcelona           523\n",
      "Assistents                       750\n",
      "dtype: int64\n"
     ]
    }
   ],
   "source": [
    "daf_df['Assistents'] = daf_df['Assistents'].fillna(daf_df['Assistents_fora_de_Barcelona']+daf_df['Assistents_a_Barcelona'])\n",
    "print(daf_df.isnull().sum())"
   ]
  },
  {
   "cell_type": "markdown",
   "id": "7c9af5c7-5154-4682-ac48-33523cece1ae",
   "metadata": {},
   "source": [
    "Amb aquesta assignació només hem pogut assignar als valors nuls d'Assistents, aquells en que no hi havia cap nul a les altres dues columnes. Però encara podem reassignar valors, els valors no nuls de les columnes d'assistència a Barcelona, o fora de Barcelona, a Assistents quan aquesta és nul·la"
   ]
  },
  {
   "cell_type": "code",
   "execution_count": 84,
   "id": "cb124690-28e1-4805-a6fa-ad53fe20586f",
   "metadata": {},
   "outputs": [
    {
     "name": "stdout",
     "output_type": "stream",
     "text": [
      "Espai                              0\n",
      "Any                                0\n",
      "Assistents_fora_de_Barcelona    1006\n",
      "Assistents_a_Barcelona           523\n",
      "Assistents                       261\n",
      "dtype: int64\n"
     ]
    }
   ],
   "source": [
    "daf_df['Assistents'] = (daf_df['Assistents'].fillna(daf_df['Assistents_fora_de_Barcelona']))\n",
    "daf_df['Assistents'] = (daf_df['Assistents'].fillna(daf_df['Assistents_a_Barcelona']))\n",
    "print(daf_df.isnull().sum())"
   ]
  },
  {
   "cell_type": "markdown",
   "id": "7701da23-5c33-44c1-a308-18ee6f07b10a",
   "metadata": {},
   "source": [
    "Eliminem les dues columnes sobrants, i els nuls de la columna Assistents, donat que no ens donen informació."
   ]
  },
  {
   "cell_type": "code",
   "execution_count": 87,
   "id": "4d06f888-b8f3-488a-ab9a-bda58497d2a9",
   "metadata": {},
   "outputs": [],
   "source": [
    "columnes = ['Assistents_fora_de_Barcelona', 'Assistents_a_Barcelona']\n",
    "daf_df = daf_df.drop(columnes, axis=1)\n",
    "daf_df = daf_df.dropna()"
   ]
  },
  {
   "cell_type": "markdown",
   "id": "657d1f24-362c-42ed-bd95-76b4e9cc3033",
   "metadata": {},
   "source": [
    "Finalment, substituim el csv original"
   ]
  },
  {
   "cell_type": "code",
   "execution_count": 90,
   "id": "9617e324-e3eb-4191-b768-faf281e24de7",
   "metadata": {},
   "outputs": [],
   "source": [
    "daf_df.to_csv(\"../Data_cleaning/selectedVars/dades-festivals.csv\", index=False)"
   ]
  },
  {
   "cell_type": "markdown",
   "id": "eac4759a-be97-40af-8eb9-b4392dbf7876",
   "metadata": {},
   "source": [
    "Ara carreguem l'arxiu d'equipaments-restaurants"
   ]
  },
  {
   "cell_type": "code",
   "execution_count": 93,
   "id": "b519c69d-3c53-4746-b967-c12a3f1020e3",
   "metadata": {},
   "outputs": [
    {
     "name": "stdout",
     "output_type": "stream",
     "text": [
      "addresses_neighborhood_id      0\n",
      "addresses_neighborhood_name    1\n",
      "secondary_filters_name         0\n",
      "created                        0\n",
      "modified                       0\n",
      "dtype: int64\n"
     ]
    }
   ],
   "source": [
    "#Carreguem l'arxiu a inspeccionar\n",
    "rest_df = pd.read_csv(\"../Data_cleaning/selectedVars/equipament-restaurants.csv\")\n",
    "#Imprimim els valors nuls per variable\n",
    "print(rest_df.isnull().sum())"
   ]
  },
  {
   "cell_type": "markdown",
   "id": "556097c5-c926-45f1-a8bd-f5ea6598f31b",
   "metadata": {},
   "source": [
    "Únicament trobem un registre nul, corresponent al nom del barri, però com tenim l'identificador, no caldrà fer cap acció sobre el valor nul."
   ]
  },
  {
   "cell_type": "markdown",
   "id": "7f643a09-ca2a-451e-87c8-7ead4dce8f7d",
   "metadata": {},
   "source": [
    "Ara carreguem l'arxiu d'habitatges d'ús turístic"
   ]
  },
  {
   "cell_type": "code",
   "execution_count": 130,
   "id": "a42ac27e-8f06-4a99-aaa8-b2767b37add9",
   "metadata": {},
   "outputs": [
    {
     "name": "stdout",
     "output_type": "stream",
     "text": [
      "CODI_BARRI    42304\n",
      "BARRI          4247\n",
      "Any               0\n",
      "dtype: int64\n"
     ]
    }
   ],
   "source": [
    "#Carreguem l'arxiu a inspeccionar\n",
    "hut_df = pd.read_csv(\"../Data_cleaning/selectedVars/habitatges-us-turistic.csv\")\n",
    "#Imprimim els valors nuls per variable\n",
    "print(hut_df.isnull().sum())"
   ]
  },
  {
   "cell_type": "code",
   "execution_count": 132,
   "id": "91e57e48-08e1-4b58-88e8-e0888fe009ae",
   "metadata": {},
   "outputs": [
    {
     "name": "stdout",
     "output_type": "stream",
     "text": [
      "El percentatge de nuls és de : 68.6496924849488 %\n"
     ]
    }
   ],
   "source": [
    "#Mirem el percentatge que suposen, donat que sense l'identificador del barri no podem treballar, els haurem d'eliminar de totes maneres.\n",
    "print(\"El percentatge de nuls és de :\", (hut_df['CODI_BARRI'].isnull().sum()/len(hut_df))*100, \"%\")"
   ]
  },
  {
   "cell_type": "markdown",
   "id": "f4936c67-bf8f-4cb4-8f99-c0f86f9589a0",
   "metadata": {},
   "source": [
    "Farem servir un altre cop el dataset amb els codis de barri i noms de barri. A partir de la columna BARRI podem assignar gran part dels CODI_BARRI. El carreguem"
   ]
  },
  {
   "cell_type": "markdown",
   "id": "bd92a0d6-d19c-450f-aa84-efe5e5923af6",
   "metadata": {},
   "source": [
    "Assignem els codis del barri a partir del dataframe en aquells en que CODI_BARRI és nul"
   ]
  },
  {
   "cell_type": "code",
   "execution_count": 136,
   "id": "e5841b17-6208-4f9b-bacf-13c62398527d",
   "metadata": {},
   "outputs": [
    {
     "name": "stdout",
     "output_type": "stream",
     "text": [
      "CODI_BARRI    6946\n",
      "BARRI         4247\n",
      "Any              0\n",
      "dtype: int64\n"
     ]
    }
   ],
   "source": [
    "#Creem un diccionari amb els codis de barri i noms de barri\n",
    "code_barris = dict(zip(barris_df['nom_barri'], barris_df['codi_barri']))\n",
    "#Assignem aquells que sigui el CODI_BARRI nul a partir de la columna BARRI\n",
    "hut_df.loc[hut_df['CODI_BARRI'].isnull(), 'CODI_BARRI'] = hut_df['BARRI'].map(code_barris)\n",
    "print(hut_df.isnull().sum())"
   ]
  },
  {
   "cell_type": "markdown",
   "id": "cce93273-dadb-450e-bcc3-ae6857af7600",
   "metadata": {},
   "source": [
    "Detectem que hi ha encara codis sense assignar. Es pot tractar perquè el nom del barri no estigui introduit de la mateixa manera que al dataset dels codis. Comparem els valors únics d'un i altre."
   ]
  },
  {
   "cell_type": "code",
   "execution_count": 139,
   "id": "69f9df7c-a253-4364-b7ac-e2fcfcda9951",
   "metadata": {},
   "outputs": [],
   "source": [
    "noms_barris_oficial = list(barris_df['nom_barri'].unique())\n",
    "noms_barris_hut = list(hut_df['BARRI'].unique())"
   ]
  },
  {
   "cell_type": "markdown",
   "id": "3e89bcec-7f4f-4f3a-99b7-b1a808e1d83a",
   "metadata": {},
   "source": [
    "Comparem les llistes de valors únics per extreure quins són els diferents."
   ]
  },
  {
   "cell_type": "code",
   "execution_count": 143,
   "id": "bf0b2452-50ad-40c2-beff-18718c467462",
   "metadata": {},
   "outputs": [
    {
     "name": "stdout",
     "output_type": "stream",
     "text": [
      "['el Poble Sec', nan, 'Sant Pere Santa Caterina i la Ribera', 'Vallvidrera el Tibidabo i les Planes']\n"
     ]
    }
   ],
   "source": [
    "barri_dif = []\n",
    "for i in noms_barris_hut:\n",
    "    if i not in noms_barris_oficial:\n",
    "        barri_dif.append(i)\n",
    "print(barri_dif)"
   ]
  },
  {
   "cell_type": "markdown",
   "id": "9806117e-82fc-4e8c-9806-e4695e808172",
   "metadata": {},
   "source": [
    "Si comparem amb els noms oficials, tenim les següents correspondències (el segon és l'oficial):\n",
    "\n",
    "el Poble Sec: el Poble-sec\n",
    "\n",
    "Sant Pere Santa Caterina i la Ribera: Sant Pere, Santa Caterina i la Ribera\n",
    "\n",
    "Vallvidrera el Tibidabo i les Planes: Vallvidrera, el Tibidabo i les Planes\n",
    "\n",
    "Per tant, fem les substitucions que corresponguin al dataset i tornem a fer l'assignació de codis als valors nuls"
   ]
  },
  {
   "cell_type": "code",
   "execution_count": 146,
   "id": "46ab3c85-9a06-41da-8c65-0eea79eca3e4",
   "metadata": {},
   "outputs": [
    {
     "name": "stdout",
     "output_type": "stream",
     "text": [
      "CODI_BARRI    4241\n",
      "BARRI         4247\n",
      "Any              0\n",
      "dtype: int64\n"
     ]
    }
   ],
   "source": [
    "hut_df.loc[hut_df['BARRI']=='el Poble Sec', 'BARRI'] = 'el Poble-sec'\n",
    "hut_df.loc[hut_df['BARRI']=='Sant Pere Santa Caterina i la Ribera', 'BARRI'] = 'Sant Pere, Santa Caterina i la Ribera'\n",
    "hut_df.loc[hut_df['BARRI']=='Vallvidrera el Tibidabo i les Planes', 'BARRI'] = 'Vallvidrera, el Tibidabo i les Planes'\n",
    "\n",
    "hut_df.loc[hut_df['CODI_BARRI'].isnull(), 'CODI_BARRI'] = hut_df['BARRI'].map(code_barris)\n",
    "\n",
    "print(hut_df.isnull().sum())"
   ]
  },
  {
   "cell_type": "markdown",
   "id": "bf777806-b398-4cf9-abe9-63d2ded6d405",
   "metadata": {},
   "source": [
    "Ara comprovarem que tots els registres amb CODI_BARRI nul ja no es poden deduir des d'altres camps"
   ]
  },
  {
   "cell_type": "code",
   "execution_count": 149,
   "id": "a87e2990-6b24-4592-b3b5-b7cb418e6945",
   "metadata": {},
   "outputs": [
    {
     "name": "stdout",
     "output_type": "stream",
     "text": [
      "CODI_BARRI    4241\n",
      "BARRI         4241\n",
      "Any              0\n",
      "dtype: int64\n"
     ]
    }
   ],
   "source": [
    "huts_null = hut_df[hut_df['CODI_BARRI'].isnull()]\n",
    "print(huts_null.isnull().sum())"
   ]
  },
  {
   "cell_type": "markdown",
   "id": "923b0127-3637-4e98-bd40-81204e8b3381",
   "metadata": {},
   "source": [
    "Com podem comprovar, tots els registres son nuls. Per tant, els eliminem, i guardem els canvis en el csv original"
   ]
  },
  {
   "cell_type": "code",
   "execution_count": 152,
   "id": "71f7f4d3-eb78-4b84-904c-b5e30c8438b5",
   "metadata": {},
   "outputs": [],
   "source": [
    "hut_df = hut_df.dropna()\n",
    "hut_df.to_csv(\"../Data_cleaning/selectedVars/habitatges-us-turistic.csv\", index=False)"
   ]
  },
  {
   "cell_type": "markdown",
   "id": "e37f9a84-8850-4700-8fb0-cbf297e7d743",
   "metadata": {},
   "source": [
    "Importem el darrer dataset on tenim valors nuls"
   ]
  },
  {
   "cell_type": "code",
   "execution_count": 122,
   "id": "244628cd-a67c-4d87-adac-c83ac61eeb46",
   "metadata": {},
   "outputs": [
    {
     "name": "stdout",
     "output_type": "stream",
     "text": [
      "CODI_BARRI    16\n",
      "NOM_BARRI     16\n",
      "DATA_EXPLO     0\n",
      "TAULES         0\n",
      "dtype: int64\n"
     ]
    }
   ],
   "source": [
    "#Carreguem l'arxiu a inspeccionar\n",
    "ter_df = pd.read_csv(\"../Data_cleaning/selectedVars/terrasses-comercos-vigents.csv\")\n",
    "#Imprimim els valors nuls per variable\n",
    "print(ter_df.isnull().sum())"
   ]
  },
  {
   "cell_type": "markdown",
   "id": "131d7f72-3db7-4c44-b84a-c0aa2181bb73",
   "metadata": {},
   "source": [
    "Novament, el nombre de nuls a CODI_BARRI i NOM_BARRI coincideix. Si es tracta dels mateixos registres, els eliminarem"
   ]
  },
  {
   "cell_type": "code",
   "execution_count": 125,
   "id": "5c7b7563-8fd3-4728-82e6-6a93cb9f688f",
   "metadata": {},
   "outputs": [
    {
     "name": "stdout",
     "output_type": "stream",
     "text": [
      "Total registres:  16 Nuls detectats:  CODI_BARRI    16\n",
      "NOM_BARRI     16\n",
      "DATA_EXPLO     0\n",
      "TAULES         0\n",
      "dtype: int64\n"
     ]
    }
   ],
   "source": [
    "ter_nuls = ter_df[ter_df['CODI_BARRI'].isnull()]\n",
    "print(\"Total registres: \", len(ter_nuls), \"Nuls detectats: \", ter_nuls.isnull().sum())"
   ]
  },
  {
   "cell_type": "markdown",
   "id": "46f3a512-ce88-4fa0-a29a-173e429c0c08",
   "metadata": {},
   "source": [
    "Eliminem els nuls i substituim el csv original"
   ]
  },
  {
   "cell_type": "code",
   "execution_count": 128,
   "id": "10a36172-8519-4622-b4d7-b9647dd2906c",
   "metadata": {},
   "outputs": [],
   "source": [
    "ter_df = ter_df.dropna()\n",
    "ter_df.to_csv(\"../Data_cleaning/selectedVars/terrasses-comercos-vigents.csv\", index=False)"
   ]
  }
 ],
 "metadata": {
  "kernelspec": {
   "display_name": "Python 3 (ipykernel)",
   "language": "python",
   "name": "python3"
  },
  "language_info": {
   "codemirror_mode": {
    "name": "ipython",
    "version": 3
   },
   "file_extension": ".py",
   "mimetype": "text/x-python",
   "name": "python",
   "nbconvert_exporter": "python",
   "pygments_lexer": "ipython3",
   "version": "3.12.7"
  }
 },
 "nbformat": 4,
 "nbformat_minor": 5
}
